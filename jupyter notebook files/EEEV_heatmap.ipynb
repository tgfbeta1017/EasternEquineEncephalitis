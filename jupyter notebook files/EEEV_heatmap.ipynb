{
 "cells": [
  {
   "cell_type": "code",
   "execution_count": 1,
   "metadata": {},
   "outputs": [
    {
     "name": "stderr",
     "output_type": "stream",
     "text": [
      "/Users/davidchung/.pyenv/versions/3.6.0/lib/python3.6/site-packages/pandas/compat/__init__.py:84: UserWarning: Could not import the lzma module. Your installed Python is incomplete. Attempting to use lzma compression will result in a RuntimeError.\n",
      "  warnings.warn(msg)\n",
      "/Users/davidchung/.pyenv/versions/3.6.0/lib/python3.6/site-packages/pandas/compat/__init__.py:84: UserWarning: Could not import the lzma module. Your installed Python is incomplete. Attempting to use lzma compression will result in a RuntimeError.\n",
      "  warnings.warn(msg)\n"
     ]
    }
   ],
   "source": [
    "import requests\n",
    "from bs4 import BeautifulSoup\n",
    "import pandas as pd\n",
    "import matplotlib.pyplot as plt\n",
    "from matplotlib.pyplot import figure\n",
    "from folium import plugins\n",
    "from folium.plugins import HeatMapWithTime\n",
    "import folium\n",
    "import geopandas as gpd\n",
    "from folium.plugins import HeatMap\n",
    "%matplotlib inline"
   ]
  },
  {
   "cell_type": "code",
   "execution_count": 29,
   "metadata": {},
   "outputs": [],
   "source": [
    "import pyepsg"
   ]
  },
  {
   "cell_type": "code",
   "execution_count": 43,
   "metadata": {},
   "outputs": [],
   "source": [
    "mass_county = gpd.GeoDataFrame.from_file('Massachusetts_Counties/Massachusetts_Counties.shp')"
   ]
  },
  {
   "cell_type": "code",
   "execution_count": 2,
   "metadata": {},
   "outputs": [],
   "source": [
    "mass_city_pos_mosquito=pd.read_csv('data/EEEVdata/mass_city_pos_mosquito.csv')\n"
   ]
  },
  {
   "cell_type": "code",
   "execution_count": 45,
   "metadata": {
    "collapsed": true
   },
   "outputs": [
    {
     "data": {
      "text/html": [
       "<div>\n",
       "<style scoped>\n",
       "    .dataframe tbody tr th:only-of-type {\n",
       "        vertical-align: middle;\n",
       "    }\n",
       "\n",
       "    .dataframe tbody tr th {\n",
       "        vertical-align: top;\n",
       "    }\n",
       "\n",
       "    .dataframe thead th {\n",
       "        text-align: right;\n",
       "    }\n",
       "</style>\n",
       "<table border=\"1\" class=\"dataframe\">\n",
       "  <thead>\n",
       "    <tr style=\"text-align: right;\">\n",
       "      <th></th>\n",
       "      <th>OBJECTID</th>\n",
       "      <th>FIPS_STCO</th>\n",
       "      <th>COUNTY</th>\n",
       "      <th>geometry</th>\n",
       "    </tr>\n",
       "  </thead>\n",
       "  <tbody>\n",
       "    <tr>\n",
       "      <td>0</td>\n",
       "      <td>1</td>\n",
       "      <td>25001</td>\n",
       "      <td>BARNSTABLE</td>\n",
       "      <td>(POLYGON ((-70.52640376158593 41.5729261016680...</td>\n",
       "    </tr>\n",
       "    <tr>\n",
       "      <td>1</td>\n",
       "      <td>2</td>\n",
       "      <td>25003</td>\n",
       "      <td>BERKSHIRE</td>\n",
       "      <td>POLYGON ((-73.02371062047774 42.70269847054067...</td>\n",
       "    </tr>\n",
       "  </tbody>\n",
       "</table>\n",
       "</div>"
      ],
      "text/plain": [
       "   OBJECTID  FIPS_STCO      COUNTY  \\\n",
       "0         1      25001  BARNSTABLE   \n",
       "1         2      25003   BERKSHIRE   \n",
       "\n",
       "                                            geometry  \n",
       "0  (POLYGON ((-70.52640376158593 41.5729261016680...  \n",
       "1  POLYGON ((-73.02371062047774 42.70269847054067...  "
      ]
     },
     "execution_count": 45,
     "metadata": {},
     "output_type": "execute_result"
    }
   ],
   "source": [
    "mass_county.head(2)"
   ]
  },
  {
   "cell_type": "code",
   "execution_count": 46,
   "metadata": {
    "collapsed": true
   },
   "outputs": [
    {
     "data": {
      "text/plain": [
       "<matplotlib.axes._subplots.AxesSubplot at 0x122841828>"
      ]
     },
     "execution_count": 46,
     "metadata": {},
     "output_type": "execute_result"
    },
    {
     "data": {
      "image/png": "[encoded data removed]",
      "text/plain": [
       "<Figure size 432x288 with 1 Axes>"
      ]
     },
     "metadata": {
      "needs_background": "light"
     },
     "output_type": "display_data"
    }
   ],
   "source": [
    "mass_county.plot()"
   ]
  },
  {
   "cell_type": "code",
   "execution_count": 5,
   "metadata": {},
   "outputs": [
    {
     "data": {
      "text/plain": [
       "46"
      ]
     },
     "execution_count": 5,
     "metadata": {},
     "output_type": "execute_result"
    }
   ],
   "source": [
    "mass_city_pos_mosquito['positive_mosquitoes'].max()"
   ]
  },
  {
   "cell_type": "code",
   "execution_count": 47,
   "metadata": {},
   "outputs": [],
   "source": [
    "mass_map=folium.Map(location=[41.9120,-70.7168],zoom_start=9)\n"
   ]
  },
  {
   "cell_type": "code",
   "execution_count": 40,
   "metadata": {},
   "outputs": [
    {
     "data": {
      "text/plain": [
       "<folium.features.GeoJson at 0x11dc79d68>"
      ]
     },
     "execution_count": 40,
     "metadata": {},
     "output_type": "execute_result"
    }
   ],
   "source": [
    "folium.GeoJson(mass_county,name='geojson').add_to(mass_map)\n"
   ]
  },
  {
   "cell_type": "code",
   "execution_count": 49,
   "metadata": {},
   "outputs": [],
   "source": [
    "#heatmap of pos mosquito by city\n",
    "folium.GeoJson(mass_county).add_to(mass_map)\n",
    "\n",
    "HeatMap(data=mass_city_pos_mosquito[['latitude', 'longitude', 'positive_mosquitoes']], radius=25, max_val=40,max_zoom=6,blur=15).add_to(mass_map)\n",
    "mass_map.save('mass_pos_city_heatmap2.html')"
   ]
  },
  {
   "cell_type": "code",
   "execution_count": 16,
   "metadata": {},
   "outputs": [],
   "source": [
    "mich_pos_map=pd.read_excel('data/EEEVdata/mich_pos_map.xlsx')\n"
   ]
  },
  {
   "cell_type": "code",
   "execution_count": 17,
   "metadata": {
    "collapsed": true
   },
   "outputs": [
    {
     "data": {
      "text/html": [
       "<div>\n",
       "<style scoped>\n",
       "    .dataframe tbody tr th:only-of-type {\n",
       "        vertical-align: middle;\n",
       "    }\n",
       "\n",
       "    .dataframe tbody tr th {\n",
       "        vertical-align: top;\n",
       "    }\n",
       "\n",
       "    .dataframe thead th {\n",
       "        text-align: right;\n",
       "    }\n",
       "</style>\n",
       "<table border=\"1\" class=\"dataframe\">\n",
       "  <thead>\n",
       "    <tr style=\"text-align: right;\">\n",
       "      <th></th>\n",
       "      <th>County</th>\n",
       "      <th>animal_cases</th>\n",
       "      <th>latitude</th>\n",
       "      <th>longitude</th>\n",
       "    </tr>\n",
       "  </thead>\n",
       "  <tbody>\n",
       "    <tr>\n",
       "      <td>0</td>\n",
       "      <td>Allegan</td>\n",
       "      <td>2</td>\n",
       "      <td>42.5710</td>\n",
       "      <td>-86.3377</td>\n",
       "    </tr>\n",
       "    <tr>\n",
       "      <td>1</td>\n",
       "      <td>Barry</td>\n",
       "      <td>5</td>\n",
       "      <td>42.5354</td>\n",
       "      <td>-85.3550</td>\n",
       "    </tr>\n",
       "    <tr>\n",
       "      <td>2</td>\n",
       "      <td>Berrien</td>\n",
       "      <td>1</td>\n",
       "      <td>42.0321</td>\n",
       "      <td>-86.7416</td>\n",
       "    </tr>\n",
       "    <tr>\n",
       "      <td>3</td>\n",
       "      <td>Calhoun</td>\n",
       "      <td>3</td>\n",
       "      <td>42.2074</td>\n",
       "      <td>-85.0233</td>\n",
       "    </tr>\n",
       "    <tr>\n",
       "      <td>4</td>\n",
       "      <td>Cass</td>\n",
       "      <td>4</td>\n",
       "      <td>41.9299</td>\n",
       "      <td>-86.0122</td>\n",
       "    </tr>\n",
       "    <tr>\n",
       "      <td>5</td>\n",
       "      <td>Eaton</td>\n",
       "      <td>1</td>\n",
       "      <td>42.5886</td>\n",
       "      <td>-84.7733</td>\n",
       "    </tr>\n",
       "    <tr>\n",
       "      <td>6</td>\n",
       "      <td>Genesee</td>\n",
       "      <td>1</td>\n",
       "      <td>43.0777</td>\n",
       "      <td>-83.6774</td>\n",
       "    </tr>\n",
       "    <tr>\n",
       "      <td>7</td>\n",
       "      <td>Houghton</td>\n",
       "      <td>1</td>\n",
       "      <td>47.1211</td>\n",
       "      <td>-88.5694</td>\n",
       "    </tr>\n",
       "    <tr>\n",
       "      <td>8</td>\n",
       "      <td>Jackson</td>\n",
       "      <td>5</td>\n",
       "      <td>42.1764</td>\n",
       "      <td>-84.3542</td>\n",
       "    </tr>\n",
       "    <tr>\n",
       "      <td>9</td>\n",
       "      <td>Kalamazoo</td>\n",
       "      <td>9</td>\n",
       "      <td>42.2278</td>\n",
       "      <td>-85.5200</td>\n",
       "    </tr>\n",
       "    <tr>\n",
       "      <td>10</td>\n",
       "      <td>Kent</td>\n",
       "      <td>2</td>\n",
       "      <td>43.0097</td>\n",
       "      <td>-85.5200</td>\n",
       "    </tr>\n",
       "    <tr>\n",
       "      <td>11</td>\n",
       "      <td>Lapeer</td>\n",
       "      <td>1</td>\n",
       "      <td>43.0482</td>\n",
       "      <td>-83.1649</td>\n",
       "    </tr>\n",
       "    <tr>\n",
       "      <td>12</td>\n",
       "      <td>Leelanau</td>\n",
       "      <td>1</td>\n",
       "      <td>45.0821</td>\n",
       "      <td>-86.0734</td>\n",
       "    </tr>\n",
       "    <tr>\n",
       "      <td>13</td>\n",
       "      <td>Livingston</td>\n",
       "      <td>1</td>\n",
       "      <td>42.6208</td>\n",
       "      <td>-83.8473</td>\n",
       "    </tr>\n",
       "    <tr>\n",
       "      <td>14</td>\n",
       "      <td>Montcalm</td>\n",
       "      <td>1</td>\n",
       "      <td>43.3057</td>\n",
       "      <td>-85.1894</td>\n",
       "    </tr>\n",
       "    <tr>\n",
       "      <td>15</td>\n",
       "      <td>Newaygo</td>\n",
       "      <td>1</td>\n",
       "      <td>43.5594</td>\n",
       "      <td>-85.7667</td>\n",
       "    </tr>\n",
       "    <tr>\n",
       "      <td>16</td>\n",
       "      <td>Saint Joseph</td>\n",
       "      <td>7</td>\n",
       "      <td>41.9118</td>\n",
       "      <td>-85.5200</td>\n",
       "    </tr>\n",
       "    <tr>\n",
       "      <td>17</td>\n",
       "      <td>Tuscola</td>\n",
       "      <td>1</td>\n",
       "      <td>43.5301</td>\n",
       "      <td>-83.5070</td>\n",
       "    </tr>\n",
       "    <tr>\n",
       "      <td>18</td>\n",
       "      <td>Van Buren</td>\n",
       "      <td>2</td>\n",
       "      <td>42.2460</td>\n",
       "      <td>-86.0122</td>\n",
       "    </tr>\n",
       "  </tbody>\n",
       "</table>\n",
       "</div>"
      ],
      "text/plain": [
       "          County  animal_cases  latitude  longitude\n",
       "0        Allegan             2   42.5710   -86.3377\n",
       "1          Barry             5   42.5354   -85.3550\n",
       "2        Berrien             1   42.0321   -86.7416\n",
       "3        Calhoun             3   42.2074   -85.0233\n",
       "4           Cass             4   41.9299   -86.0122\n",
       "5          Eaton             1   42.5886   -84.7733\n",
       "6        Genesee             1   43.0777   -83.6774\n",
       "7      Houghton              1   47.1211   -88.5694\n",
       "8        Jackson             5   42.1764   -84.3542\n",
       "9      Kalamazoo             9   42.2278   -85.5200\n",
       "10          Kent             2   43.0097   -85.5200\n",
       "11        Lapeer             1   43.0482   -83.1649\n",
       "12      Leelanau             1   45.0821   -86.0734\n",
       "13    Livingston             1   42.6208   -83.8473\n",
       "14      Montcalm             1   43.3057   -85.1894\n",
       "15       Newaygo             1   43.5594   -85.7667\n",
       "16  Saint Joseph             7   41.9118   -85.5200\n",
       "17       Tuscola             1   43.5301   -83.5070\n",
       "18     Van Buren             2   42.2460   -86.0122"
      ]
     },
     "execution_count": 17,
     "metadata": {},
     "output_type": "execute_result"
    }
   ],
   "source": [
    "mich_pos_map"
   ]
  },
  {
   "cell_type": "code",
   "execution_count": 3,
   "metadata": {},
   "outputs": [],
   "source": [
    "mich_county = gpd.GeoDataFrame.from_file('Michigan_Counties/Counties_v17a.shp')"
   ]
  },
  {
   "cell_type": "code",
   "execution_count": 56,
   "metadata": {},
   "outputs": [],
   "source": [
    "mich_gjson=mich_county.to_crs(epsg='4326').to_json()"
   ]
  },
  {
   "cell_type": "code",
   "execution_count": 58,
   "metadata": {
    "collapsed": true
   },
   "outputs": [
    {
     "data": {
      "text/plain": [
       "<matplotlib.axes._subplots.AxesSubplot at 0x12829f588>"
      ]
     },
     "execution_count": 58,
     "metadata": {},
     "output_type": "execute_result"
    },
    {
     "data": {
      "image/png": "[encoded data removed]",
      "text/plain": [
       "<Figure size 432x288 with 1 Axes>"
      ]
     },
     "metadata": {
      "needs_background": "light"
     },
     "output_type": "display_data"
    }
   ],
   "source": [
    "mich_county.plot()"
   ]
  },
  {
   "cell_type": "code",
   "execution_count": 45,
   "metadata": {},
   "outputs": [],
   "source": [
    "mich_map=folium.Map(location=[42.2278,-85.5200],zoom_start=6)\n",
    "\n",
    "#heatmap of positive animals for EEEV in michigan counties.\n",
    "#folium.GeoJson(mich_county).add_to(mich_map)\n",
    "\n",
    "\n",
    "HeatMap(data=mich_pos_map[['latitude', 'longitude', 'animal_cases']], radius=22, max_val=1,max_zoom=11,blur=7).add_to(mich_map)\n",
    "mich_map.save('mich_pos_county_heatmap2.html')"
   ]
  },
  {
   "cell_type": "code",
   "execution_count": 63,
   "metadata": {},
   "outputs": [],
   "source": [
    "HeatMap(data=mich_pos_map[['latitude', 'longitude', 'animal_cases']], radius=15, max_val=5,max_zoom=8,blur=15).add_to(mich_map)\n",
    "mich_map.save('mich_pos_county_heatmap3.html')"
   ]
  },
  {
   "cell_type": "code",
   "execution_count": 81,
   "metadata": {},
   "outputs": [],
   "source": [
    "ny_pos_map=pd.read_excel('data/new_york_eee_map.xlsx')"
   ]
  },
  {
   "cell_type": "code",
   "execution_count": 93,
   "metadata": {},
   "outputs": [],
   "source": [
    "ny_county=gpd.GeoDataFrame.from_file('data/birds/ebd_US_mutswa_201001_201912_relNov-2019/ny_counties/State.shp')"
   ]
  },
  {
   "cell_type": "code",
   "execution_count": 94,
   "metadata": {
    "collapsed": true
   },
   "outputs": [
    {
     "data": {
      "text/plain": [
       "<matplotlib.axes._subplots.AxesSubplot at 0x1261927b8>"
      ]
     },
     "execution_count": 94,
     "metadata": {},
     "output_type": "execute_result"
    },
    {
     "data": {
      "image/png": "[encoded data removed]",
      "text/plain": [
       "<Figure size 432x288 with 1 Axes>"
      ]
     },
     "metadata": {
      "needs_background": "light"
     },
     "output_type": "display_data"
    }
   ],
   "source": [
    "ny_county.plot()"
   ]
  },
  {
   "cell_type": "code",
   "execution_count": 96,
   "metadata": {},
   "outputs": [],
   "source": [
    "ny_map=folium.Map(location=[40.7128,-74.0060],zoom_start=7)\n",
    "folium.GeoJson(ny_county,name='geojson').add_to(ny_map)\n",
    "\n",
    "HeatMap(data=ny_pos_map[['Latitude', 'Longitude', 'Pos_count']], radius=26, max_val=2,max_zoom=7,blur=15).add_to(ny_map)\n",
    "ny_map.save('ny_heatmap_eee_pos2.html')"
   ]
  },
  {
   "cell_type": "code",
   "execution_count": null,
   "metadata": {},
   "outputs": [],
   "source": []
  }
 ],
 "metadata": {
  "kernelspec": {
   "display_name": "Python 3",
   "language": "python",
   "name": "python3"
  },
  "language_info": {
   "codemirror_mode": {
    "name": "ipython",
    "version": 3
   },
   "file_extension": ".py",
   "mimetype": "text/x-python",
   "name": "python",
   "nbconvert_exporter": "python",
   "pygments_lexer": "ipython3",
   "version": "3.6.0"
  }
 },
 "nbformat": 4,
 "nbformat_minor": 2
}
