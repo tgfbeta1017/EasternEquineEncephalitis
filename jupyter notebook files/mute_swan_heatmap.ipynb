{
 "cells": [
  {
   "cell_type": "code",
   "execution_count": 1,
   "metadata": {},
   "outputs": [
    {
     "name": "stderr",
     "output_type": "stream",
     "text": [
      "/Users/davidchung/.pyenv/versions/3.6.0/lib/python3.6/site-packages/pandas/compat/__init__.py:84: UserWarning: Could not import the lzma module. Your installed Python is incomplete. Attempting to use lzma compression will result in a RuntimeError.\n",
      "  warnings.warn(msg)\n",
      "/Users/davidchung/.pyenv/versions/3.6.0/lib/python3.6/site-packages/pandas/compat/__init__.py:84: UserWarning: Could not import the lzma module. Your installed Python is incomplete. Attempting to use lzma compression will result in a RuntimeError.\n",
      "  warnings.warn(msg)\n"
     ]
    }
   ],
   "source": [
    "import requests\n",
    "from bs4 import BeautifulSoup\n",
    "import pandas as pd\n",
    "import matplotlib.pyplot as plt\n",
    "from matplotlib.pyplot import figure\n",
    "from folium import plugins\n",
    "from folium.plugins import HeatMapWithTime\n",
    "import folium\n",
    "import geopandas as gpd\n",
    "from folium.plugins import HeatMap\n",
    "%matplotlib inline"
   ]
  },
  {
   "cell_type": "code",
   "execution_count": 2,
   "metadata": {},
   "outputs": [],
   "source": [
    "df = pd.read_csv('ebird_data/ebirddata.csv')\n"
   ]
  },
  {
   "cell_type": "code",
   "execution_count": 3,
   "metadata": {},
   "outputs": [
    {
     "data": {
      "text/html": [
       "<div>\n",
       "<style scoped>\n",
       "    .dataframe tbody tr th:only-of-type {\n",
       "        vertical-align: middle;\n",
       "    }\n",
       "\n",
       "    .dataframe tbody tr th {\n",
       "        vertical-align: top;\n",
       "    }\n",
       "\n",
       "    .dataframe thead th {\n",
       "        text-align: right;\n",
       "    }\n",
       "</style>\n",
       "<table border=\"1\" class=\"dataframe\">\n",
       "  <thead>\n",
       "    <tr style=\"text-align: right;\">\n",
       "      <th></th>\n",
       "      <th>Unnamed: 0</th>\n",
       "      <th>STATE</th>\n",
       "      <th>LONGITUDE</th>\n",
       "      <th>LATITUDE</th>\n",
       "      <th>OBSERVATION.COUNT</th>\n",
       "      <th>OBSERVATION.DATE</th>\n",
       "    </tr>\n",
       "  </thead>\n",
       "  <tbody>\n",
       "    <tr>\n",
       "      <td>0</td>\n",
       "      <td>1</td>\n",
       "      <td>Maryland</td>\n",
       "      <td>-76.049252</td>\n",
       "      <td>39.547140</td>\n",
       "      <td>7</td>\n",
       "      <td>2010-06-12</td>\n",
       "    </tr>\n",
       "    <tr>\n",
       "      <td>1</td>\n",
       "      <td>2</td>\n",
       "      <td>Pennsylvania</td>\n",
       "      <td>-75.506544</td>\n",
       "      <td>40.369880</td>\n",
       "      <td>3</td>\n",
       "      <td>2010-07-11</td>\n",
       "    </tr>\n",
       "    <tr>\n",
       "      <td>2</td>\n",
       "      <td>3</td>\n",
       "      <td>Connecticut</td>\n",
       "      <td>-73.198686</td>\n",
       "      <td>41.733277</td>\n",
       "      <td>8</td>\n",
       "      <td>2010-05-21</td>\n",
       "    </tr>\n",
       "    <tr>\n",
       "      <td>3</td>\n",
       "      <td>4</td>\n",
       "      <td>New Jersey</td>\n",
       "      <td>-74.941208</td>\n",
       "      <td>38.946240</td>\n",
       "      <td>1</td>\n",
       "      <td>2010-04-29</td>\n",
       "    </tr>\n",
       "    <tr>\n",
       "      <td>4</td>\n",
       "      <td>5</td>\n",
       "      <td>New York</td>\n",
       "      <td>-73.968953</td>\n",
       "      <td>40.660284</td>\n",
       "      <td>X</td>\n",
       "      <td>2010-11-10</td>\n",
       "    </tr>\n",
       "  </tbody>\n",
       "</table>\n",
       "</div>"
      ],
      "text/plain": [
       "   Unnamed: 0         STATE  LONGITUDE   LATITUDE OBSERVATION.COUNT  \\\n",
       "0           1      Maryland -76.049252  39.547140                 7   \n",
       "1           2  Pennsylvania -75.506544  40.369880                 3   \n",
       "2           3   Connecticut -73.198686  41.733277                 8   \n",
       "3           4    New Jersey -74.941208  38.946240                 1   \n",
       "4           5      New York -73.968953  40.660284                 X   \n",
       "\n",
       "  OBSERVATION.DATE  \n",
       "0       2010-06-12  \n",
       "1       2010-07-11  \n",
       "2       2010-05-21  \n",
       "3       2010-04-29  \n",
       "4       2010-11-10  "
      ]
     },
     "execution_count": 3,
     "metadata": {},
     "output_type": "execute_result"
    }
   ],
   "source": [
    "df.head()"
   ]
  },
  {
   "cell_type": "code",
   "execution_count": 5,
   "metadata": {},
   "outputs": [
    {
     "name": "stdout",
     "output_type": "stream",
     "text": [
      "<class 'pandas.core.frame.DataFrame'>\n",
      "RangeIndex: 287450 entries, 0 to 287449\n",
      "Data columns (total 6 columns):\n",
      "Unnamed: 0           287450 non-null int64\n",
      "STATE                287450 non-null object\n",
      "LONGITUDE            287450 non-null float64\n",
      "LATITUDE             287450 non-null float64\n",
      "OBSERVATION.COUNT    287450 non-null object\n",
      "OBSERVATION.DATE     287450 non-null object\n",
      "dtypes: float64(2), int64(1), object(3)\n",
      "memory usage: 13.2+ MB\n"
     ]
    }
   ],
   "source": [
    "df.info()"
   ]
  },
  {
   "cell_type": "code",
   "execution_count": 7,
   "metadata": {},
   "outputs": [],
   "source": [
    "month=[]\n",
    "day=[]\n",
    "year=[]\n",
    "df['OBSERVATION.DATE'] =  pd.to_datetime(df['OBSERVATION.DATE'])\n",
    "month = df['OBSERVATION.DATE'].dt.month\n",
    "day= df['OBSERVATION.DATE'].dt.day\n",
    "year= df['OBSERVATION.DATE'].dt.year  \n",
    "\n",
    "df['Day']=pd.Series(day)\n",
    "df['Month']=pd.Series(month)\n",
    "df['Year']=pd.Series(year)"
   ]
  },
  {
   "cell_type": "code",
   "execution_count": 8,
   "metadata": {},
   "outputs": [],
   "source": [
    "df['OBSERVATION.COUNT']=df['OBSERVATION.COUNT'].astype(int)"
   ]
  },
  {
   "cell_type": "code",
   "execution_count": 149,
   "metadata": {},
   "outputs": [],
   "source": [
    "df_conn=df[df['STATE']=='Connecticut']"
   ]
  },
  {
   "cell_type": "code",
   "execution_count": 9,
   "metadata": {},
   "outputs": [],
   "source": [
    "df_mich=df[df['STATE']=='Michigan']"
   ]
  },
  {
   "cell_type": "code",
   "execution_count": 131,
   "metadata": {},
   "outputs": [],
   "source": [
    "df_rhode=df[df['STATE']=='Rhode Island']"
   ]
  },
  {
   "cell_type": "code",
   "execution_count": 145,
   "metadata": {},
   "outputs": [],
   "source": [
    "df_mass=df[df['STATE']=='Massachusetts']"
   ]
  },
  {
   "cell_type": "code",
   "execution_count": 282,
   "metadata": {},
   "outputs": [],
   "source": [
    "df_ny=df[df['STATE']=='New York']"
   ]
  },
  {
   "cell_type": "code",
   "execution_count": 10,
   "metadata": {},
   "outputs": [],
   "source": [
    "df_mich=df_mich[df_mich['Year']==2019]\n"
   ]
  },
  {
   "cell_type": "code",
   "execution_count": 133,
   "metadata": {},
   "outputs": [],
   "source": [
    "df_rhode=df_rhode[df_rhode['Year']==2019]\n"
   ]
  },
  {
   "cell_type": "code",
   "execution_count": 146,
   "metadata": {},
   "outputs": [],
   "source": [
    "df_mass=df_mass[df_mass['Year']==2019]\n"
   ]
  },
  {
   "cell_type": "code",
   "execution_count": null,
   "metadata": {},
   "outputs": [],
   "source": [
    "df_mich=df_mich[df_mich['Year']==2019]\n"
   ]
  },
  {
   "cell_type": "code",
   "execution_count": 138,
   "metadata": {},
   "outputs": [],
   "source": [
    "df_conn=df_conn[df_conn['Year']==2017]"
   ]
  },
  {
   "cell_type": "code",
   "execution_count": 283,
   "metadata": {},
   "outputs": [],
   "source": [
    "df_ny=df_ny[df_ny['Year']==2019]"
   ]
  },
  {
   "cell_type": "code",
   "execution_count": 272,
   "metadata": {},
   "outputs": [
    {
     "data": {
      "text/plain": [
       "242"
      ]
     },
     "execution_count": 272,
     "metadata": {},
     "output_type": "execute_result"
    }
   ],
   "source": [
    "df_ny['OBSERVATION.COUNT'].max()"
   ]
  },
  {
   "cell_type": "code",
   "execution_count": 260,
   "metadata": {
    "collapsed": true
   },
   "outputs": [
    {
     "ename": "NameError",
     "evalue": "name 'df_conn' is not defined",
     "output_type": "error",
     "traceback": [
      "\u001b[0;31m---------------------------------------------------------------------------\u001b[0m",
      "\u001b[0;31mNameError\u001b[0m                                 Traceback (most recent call last)",
      "\u001b[0;32m<ipython-input-260-280d5756d276>\u001b[0m in \u001b[0;36m<module>\u001b[0;34m\u001b[0m\n\u001b[0;32m----> 1\u001b[0;31m \u001b[0mprint\u001b[0m\u001b[0;34m(\u001b[0m\u001b[0mdf_ny\u001b[0m\u001b[0;34m[\u001b[0m\u001b[0;34m'OBSERVATION.COUNT'\u001b[0m\u001b[0;34m]\u001b[0m\u001b[0;34m.\u001b[0m\u001b[0mmax\u001b[0m\u001b[0;34m(\u001b[0m\u001b[0;34m)\u001b[0m\u001b[0;34m,\u001b[0m\u001b[0mdf_mich\u001b[0m\u001b[0;34m[\u001b[0m\u001b[0;34m'OBSERVATION.COUNT'\u001b[0m\u001b[0;34m]\u001b[0m\u001b[0;34m.\u001b[0m\u001b[0mmax\u001b[0m\u001b[0;34m(\u001b[0m\u001b[0;34m)\u001b[0m\u001b[0;34m,\u001b[0m\u001b[0mdf_conn\u001b[0m\u001b[0;34m[\u001b[0m\u001b[0;34m'OBSERVATION.COUNT'\u001b[0m\u001b[0;34m]\u001b[0m\u001b[0;34m.\u001b[0m\u001b[0mmax\u001b[0m\u001b[0;34m(\u001b[0m\u001b[0;34m)\u001b[0m\u001b[0;34m)\u001b[0m\u001b[0;34m\u001b[0m\u001b[0m\n\u001b[0m",
      "\u001b[0;31mNameError\u001b[0m: name 'df_conn' is not defined"
     ]
    }
   ],
   "source": [
    "print(df_ny['OBSERVATION.COUNT'].max(),df_mich['OBSERVATION.COUNT'].max(),df_conn['OBSERVATION.COUNT'].max())"
   ]
  },
  {
   "cell_type": "code",
   "execution_count": 103,
   "metadata": {},
   "outputs": [],
   "source": [
    "conn_county = gpd.GeoDataFrame.from_file('Connecticut_Counties/tl_2019_09_cousub.shp')"
   ]
  },
  {
   "cell_type": "code",
   "execution_count": 11,
   "metadata": {},
   "outputs": [],
   "source": [
    "mich_county=gpd.GeoDataFrame.from_file('Michigan_Counties/Counties_v17a.shp')"
   ]
  },
  {
   "cell_type": "code",
   "execution_count": 147,
   "metadata": {},
   "outputs": [],
   "source": [
    "mass_county=gpd.GeoDataFrame.from_file('Massachusetts_Counties/Massachusetts_Counties.shp')"
   ]
  },
  {
   "cell_type": "code",
   "execution_count": 314,
   "metadata": {},
   "outputs": [],
   "source": [
    "ny_county=gpd.GeoDataFrame.from_file('ny_Counties/State.shp')"
   ]
  },
  {
   "cell_type": "code",
   "execution_count": 263,
   "metadata": {
    "collapsed": true
   },
   "outputs": [
    {
     "data": {
      "text/plain": [
       "<matplotlib.axes._subplots.AxesSubplot at 0x1255f2550>"
      ]
     },
     "execution_count": 263,
     "metadata": {},
     "output_type": "execute_result"
    },
    {
     "data": {
      "image/png": "[encoded data removed]",
      "text/plain": [
       "<Figure size 432x288 with 1 Axes>"
      ]
     },
     "metadata": {
      "needs_background": "light"
     },
     "output_type": "display_data"
    }
   ],
   "source": [
    "shoreline=gpd.GeoDataFrame.from_file('ny_Counties/Counties_shoreline.shp')\n",
    "shoreline.plot()"
   ]
  },
  {
   "cell_type": "code",
   "execution_count": 149,
   "metadata": {},
   "outputs": [],
   "source": [
    "df_mass_summer=df_mass[df_mass['Month']>2]\n",
    "df_mass_summer=df_mass_summer[df_mass_summer['Month']<10]"
   ]
  },
  {
   "cell_type": "code",
   "execution_count": 256,
   "metadata": {},
   "outputs": [],
   "source": [
    "#massachusetts\n",
    "mass_map=folium.Map(location=[42.4072,-71.3824],zoom_start=8)\n",
    "folium.GeoJson(mass_county,name='geojson').add_to(mass_map)\n",
    "\n",
    "HeatMap(data=df_mass[['LATITUDE', 'LONGITUDE', 'OBSERVATION.COUNT']], radius=8, gradient={.5:'green',.4:'lime'},max_val=168,max_zoom=6,blur=10).add_to(mass_map)\n",
    "\n",
    "mass_map.save('mass_heatmap_muteswan_green.html')"
   ]
  },
  {
   "cell_type": "code",
   "execution_count": 284,
   "metadata": {},
   "outputs": [],
   "source": [
    "df_ny_summer=df_ny[df_ny['Month']<10]"
   ]
  },
  {
   "cell_type": "code",
   "execution_count": 285,
   "metadata": {},
   "outputs": [],
   "source": [
    "df_ny_summer=df_ny_summer[df_ny_summer['Month']>3]"
   ]
  },
  {
   "cell_type": "code",
   "execution_count": 286,
   "metadata": {
    "collapsed": true
   },
   "outputs": [
    {
     "data": {
      "text/html": [
       "<div>\n",
       "<style scoped>\n",
       "    .dataframe tbody tr th:only-of-type {\n",
       "        vertical-align: middle;\n",
       "    }\n",
       "\n",
       "    .dataframe tbody tr th {\n",
       "        vertical-align: top;\n",
       "    }\n",
       "\n",
       "    .dataframe thead th {\n",
       "        text-align: right;\n",
       "    }\n",
       "</style>\n",
       "<table border=\"1\" class=\"dataframe\">\n",
       "  <thead>\n",
       "    <tr style=\"text-align: right;\">\n",
       "      <th></th>\n",
       "      <th>Unnamed: 0</th>\n",
       "      <th>STATE</th>\n",
       "      <th>LONGITUDE</th>\n",
       "      <th>LATITUDE</th>\n",
       "      <th>OBSERVATION.COUNT</th>\n",
       "      <th>OBSERVATION.DATE</th>\n",
       "      <th>Day</th>\n",
       "      <th>Month</th>\n",
       "      <th>Year</th>\n",
       "    </tr>\n",
       "  </thead>\n",
       "  <tbody>\n",
       "    <tr>\n",
       "      <td>238096</td>\n",
       "      <td>238097</td>\n",
       "      <td>New York</td>\n",
       "      <td>-72.369990</td>\n",
       "      <td>40.990913</td>\n",
       "      <td>3</td>\n",
       "      <td>2019-07-24</td>\n",
       "      <td>24</td>\n",
       "      <td>7</td>\n",
       "      <td>2019</td>\n",
       "    </tr>\n",
       "    <tr>\n",
       "      <td>238114</td>\n",
       "      <td>238115</td>\n",
       "      <td>New York</td>\n",
       "      <td>-73.968953</td>\n",
       "      <td>40.660284</td>\n",
       "      <td>6</td>\n",
       "      <td>2019-04-15</td>\n",
       "      <td>15</td>\n",
       "      <td>4</td>\n",
       "      <td>2019</td>\n",
       "    </tr>\n",
       "    <tr>\n",
       "      <td>238115</td>\n",
       "      <td>238116</td>\n",
       "      <td>New York</td>\n",
       "      <td>-77.707329</td>\n",
       "      <td>43.310752</td>\n",
       "      <td>4</td>\n",
       "      <td>2019-08-30</td>\n",
       "      <td>30</td>\n",
       "      <td>8</td>\n",
       "      <td>2019</td>\n",
       "    </tr>\n",
       "    <tr>\n",
       "      <td>238116</td>\n",
       "      <td>238117</td>\n",
       "      <td>New York</td>\n",
       "      <td>-73.145170</td>\n",
       "      <td>40.932741</td>\n",
       "      <td>2</td>\n",
       "      <td>2019-06-12</td>\n",
       "      <td>12</td>\n",
       "      <td>6</td>\n",
       "      <td>2019</td>\n",
       "    </tr>\n",
       "    <tr>\n",
       "      <td>238128</td>\n",
       "      <td>238129</td>\n",
       "      <td>New York</td>\n",
       "      <td>-73.371334</td>\n",
       "      <td>40.890336</td>\n",
       "      <td>5</td>\n",
       "      <td>2019-05-21</td>\n",
       "      <td>21</td>\n",
       "      <td>5</td>\n",
       "      <td>2019</td>\n",
       "    </tr>\n",
       "  </tbody>\n",
       "</table>\n",
       "</div>"
      ],
      "text/plain": [
       "        Unnamed: 0     STATE  LONGITUDE   LATITUDE  OBSERVATION.COUNT  \\\n",
       "238096      238097  New York -72.369990  40.990913                  3   \n",
       "238114      238115  New York -73.968953  40.660284                  6   \n",
       "238115      238116  New York -77.707329  43.310752                  4   \n",
       "238116      238117  New York -73.145170  40.932741                  2   \n",
       "238128      238129  New York -73.371334  40.890336                  5   \n",
       "\n",
       "       OBSERVATION.DATE  Day  Month  Year  \n",
       "238096       2019-07-24   24      7  2019  \n",
       "238114       2019-04-15   15      4  2019  \n",
       "238115       2019-08-30   30      8  2019  \n",
       "238116       2019-06-12   12      6  2019  \n",
       "238128       2019-05-21   21      5  2019  "
      ]
     },
     "execution_count": 286,
     "metadata": {},
     "output_type": "execute_result"
    }
   ],
   "source": [
    "df_ny_summer.head()"
   ]
  },
  {
   "cell_type": "code",
   "execution_count": 231,
   "metadata": {},
   "outputs": [],
   "source": [
    "### michigan summer\n",
    "mich_map=folium.Map(location=[44.3148,-85.6024],zoom_start=6)\n",
    "#folium.GeoJson(mich_county,name='geojson').add_to(mich_map)\n",
    "HeatMap(data=df_mich_summer_m5[['LATITUDE', 'LONGITUDE', 'OBSERVATION.COUNT']], radius=14, gradient ={.5:'green',.4: 'lime'},max_val=15,max_zoom=1,blur=16).add_to(mich_map)\n",
    "\n",
    "mich_map.save('mich_muteswan_summer_heatmap_m6.html')"
   ]
  },
  {
   "cell_type": "code",
   "execution_count": 129,
   "metadata": {},
   "outputs": [],
   "source": [
    "#michigan\n",
    "mich_map=folium.Map(location=[44.3148,-85.6024],zoom_start=7)\n",
    "folium.GeoJson(mich_county,name='geojson').add_to(mich_map)\n",
    "HeatMap(data=df_mich[['LATITUDE', 'LONGITUDE', 'OBSERVATION.COUNT']], radius=12, max_val=1500,max_zoom=6,blur=5).add_to(mich_map)\n",
    "\n",
    "mich_map.save('mich_muteswan_heatmap.html')"
   ]
  },
  {
   "cell_type": "code",
   "execution_count": 159,
   "metadata": {},
   "outputs": [],
   "source": [
    "### michigan summer\n",
    "mich_map=folium.Map(location=[44.3148,-85.6024],zoom_start=6)\n",
    "#folium.GeoJson(mich_county,name='geojson').add_to(mich_map)\n",
    "HeatMap(data=df_mich_summer_m5[['LATITUDE', 'LONGITUDE', 'OBSERVATION.COUNT']], radius=25, max_val=1000,max_zoom=6,blur=5).add_to(mich_map)\n",
    "\n",
    "mich_map.save('mich_muteswan_summer_heatmap_m5.html')"
   ]
  },
  {
   "cell_type": "code",
   "execution_count": 222,
   "metadata": {
    "collapsed": true
   },
   "outputs": [
    {
     "ename": "NameError",
     "evalue": "name 'conn_county' is not defined",
     "output_type": "error",
     "traceback": [
      "\u001b[0;31m---------------------------------------------------------------------------\u001b[0m",
      "\u001b[0;31mNameError\u001b[0m                                 Traceback (most recent call last)",
      "\u001b[0;32m<ipython-input-222-bcf20b5399f4>\u001b[0m in \u001b[0;36m<module>\u001b[0;34m\u001b[0m\n\u001b[1;32m      1\u001b[0m \u001b[0mconn_map\u001b[0m\u001b[0;34m=\u001b[0m\u001b[0mfolium\u001b[0m\u001b[0;34m.\u001b[0m\u001b[0mMap\u001b[0m\u001b[0;34m(\u001b[0m\u001b[0mlocation\u001b[0m\u001b[0;34m=\u001b[0m\u001b[0;34m[\u001b[0m\u001b[0;36m41.6032\u001b[0m\u001b[0;34m,\u001b[0m\u001b[0;34m-\u001b[0m\u001b[0;36m73.0877\u001b[0m\u001b[0;34m]\u001b[0m\u001b[0;34m,\u001b[0m\u001b[0mzoom_start\u001b[0m\u001b[0;34m=\u001b[0m\u001b[0;36m8\u001b[0m\u001b[0;34m)\u001b[0m\u001b[0;34m\u001b[0m\u001b[0m\n\u001b[0;32m----> 2\u001b[0;31m \u001b[0mfolium\u001b[0m\u001b[0;34m.\u001b[0m\u001b[0mGeoJson\u001b[0m\u001b[0;34m(\u001b[0m\u001b[0mconn_county\u001b[0m\u001b[0;34m,\u001b[0m\u001b[0mname\u001b[0m\u001b[0;34m=\u001b[0m\u001b[0;34m'geojson'\u001b[0m\u001b[0;34m)\u001b[0m\u001b[0;34m.\u001b[0m\u001b[0madd_to\u001b[0m\u001b[0;34m(\u001b[0m\u001b[0mconn_map\u001b[0m\u001b[0;34m)\u001b[0m\u001b[0;34m\u001b[0m\u001b[0m\n\u001b[0m\u001b[1;32m      3\u001b[0m \u001b[0;34m\u001b[0m\u001b[0m\n\u001b[1;32m      4\u001b[0m \u001b[0mHeatMap\u001b[0m\u001b[0;34m(\u001b[0m\u001b[0mdata\u001b[0m\u001b[0;34m=\u001b[0m\u001b[0mdf_conn\u001b[0m\u001b[0;34m[\u001b[0m\u001b[0;34m[\u001b[0m\u001b[0;34m'LATITUDE'\u001b[0m\u001b[0;34m,\u001b[0m \u001b[0;34m'LONGITUDE'\u001b[0m\u001b[0;34m,\u001b[0m \u001b[0;34m'OBSERVATION.COUNT'\u001b[0m\u001b[0;34m]\u001b[0m\u001b[0;34m]\u001b[0m\u001b[0;34m,\u001b[0m \u001b[0mradius\u001b[0m\u001b[0;34m=\u001b[0m\u001b[0;36m15\u001b[0m\u001b[0;34m,\u001b[0m \u001b[0mmax_val\u001b[0m\u001b[0;34m=\u001b[0m\u001b[0;36m400\u001b[0m\u001b[0;34m,\u001b[0m\u001b[0mmax_zoom\u001b[0m\u001b[0;34m=\u001b[0m\u001b[0;36m6\u001b[0m\u001b[0;34m,\u001b[0m\u001b[0mblur\u001b[0m\u001b[0;34m=\u001b[0m\u001b[0;36m18\u001b[0m\u001b[0;34m)\u001b[0m\u001b[0;34m.\u001b[0m\u001b[0madd_to\u001b[0m\u001b[0;34m(\u001b[0m\u001b[0mconn_map\u001b[0m\u001b[0;34m)\u001b[0m\u001b[0;34m\u001b[0m\u001b[0m\n\u001b[1;32m      5\u001b[0m \u001b[0mconn_map\u001b[0m\u001b[0;34m.\u001b[0m\u001b[0msave\u001b[0m\u001b[0;34m(\u001b[0m\u001b[0;34m'conn_heatmap.html'\u001b[0m\u001b[0;34m)\u001b[0m\u001b[0;34m\u001b[0m\u001b[0m\n",
      "\u001b[0;31mNameError\u001b[0m: name 'conn_county' is not defined"
     ]
    }
   ],
   "source": [
    "conn_map=folium.Map(location=[41.6032,-73.0877],zoom_start=8)\n",
    "folium.GeoJson(conn_county,name='geojson').add_to(conn_map)\n",
    "\n",
    "HeatMap(data=df_conn[['LATITUDE', 'LONGITUDE', 'OBSERVATION.COUNT']], radius=15, max_val=400,max_zoom=6,blur=18).add_to(conn_map)\n",
    "conn_map.save('conn_heatmap.html')"
   ]
  },
  {
   "cell_type": "code",
   "execution_count": 136,
   "metadata": {},
   "outputs": [],
   "source": [
    "rhode_map=folium.Map(location=[41.6032,-73.0877],zoom_start=8)\n",
    "#folium.GeoJson(conn_county,name='geojson').add_to(conn_map)\n",
    "\n",
    "HeatMap(data=df_rhode[['LATITUDE', 'LONGITUDE', 'OBSERVATION.COUNT']], radius=15, max_val=200,max_zoom=6,blur=15).add_to(rhode_map)\n",
    "rhode_map.save('rhode_heatmap.html')"
   ]
  },
  {
   "cell_type": "code",
   "execution_count": 315,
   "metadata": {},
   "outputs": [],
   "source": [
    "ny_map=folium.Map(location=[40.7128,-74.0060],zoom_start=7)\n",
    "folium.GeoJson(ny_county,name='geojson').add_to(ny_map)\n",
    "\n",
    "HeatMap(data=df_ny[['LATITUDE', 'LONGITUDE', 'OBSERVATION.COUNT']], radius=10,gradient ={.5:'green',.3: 'lime'}, max_val=500,max_zoom=6,blur=10).add_to(ny_map)\n",
    "ny_map.save('ny_muteswan_heatmap2.html')"
   ]
  },
  {
   "cell_type": "code",
   "execution_count": 316,
   "metadata": {},
   "outputs": [],
   "source": [
    "ny_map=folium.Map(location=[40.7128,-74.0060],zoom_start=7)\n",
    "folium.GeoJson(ny_county,name='geojson').add_to(ny_map)\n",
    "\n",
    "HeatMap(data=df_ny_summer[['LATITUDE', 'LONGITUDE', 'OBSERVATION.COUNT']], radius=10,gradient ={.6:'green',.2: 'lime'}, max_val=500,max_zoom=6,blur=10).add_to(ny_map)\n",
    "ny_map.save('ny_heatmap.html')"
   ]
  },
  {
   "cell_type": "code",
   "execution_count": null,
   "metadata": {},
   "outputs": [],
   "source": []
  }
 ],
 "metadata": {
  "kernelspec": {
   "display_name": "Python 3",
   "language": "python",
   "name": "python3"
  },
  "language_info": {
   "codemirror_mode": {
    "name": "ipython",
    "version": 3
   },
   "file_extension": ".py",
   "mimetype": "text/x-python",
   "name": "python",
   "nbconvert_exporter": "python",
   "pygments_lexer": "ipython3",
   "version": "3.6.0"
  }
 },
 "nbformat": 4,
 "nbformat_minor": 2
}
