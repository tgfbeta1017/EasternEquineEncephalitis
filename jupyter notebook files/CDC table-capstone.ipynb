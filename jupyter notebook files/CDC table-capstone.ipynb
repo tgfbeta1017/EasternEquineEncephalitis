{
 "cells": [
  {
   "cell_type": "code",
   "execution_count": 1,
   "metadata": {},
   "outputs": [
    {
     "name": "stderr",
     "output_type": "stream",
     "text": [
      "/Users/davidchung/.pyenv/versions/3.6.0/lib/python3.6/site-packages/pandas/compat/__init__.py:84: UserWarning: Could not import the lzma module. Your installed Python is incomplete. Attempting to use lzma compression will result in a RuntimeError.\n",
      "  warnings.warn(msg)\n",
      "/Users/davidchung/.pyenv/versions/3.6.0/lib/python3.6/site-packages/pandas/compat/__init__.py:84: UserWarning: Could not import the lzma module. Your installed Python is incomplete. Attempting to use lzma compression will result in a RuntimeError.\n",
      "  warnings.warn(msg)\n"
     ]
    }
   ],
   "source": [
    "import requests\n",
    "from bs4 import BeautifulSoup\n",
    "import pandas as pd\n",
    "import matplotlib.pyplot as plt\n",
    "from matplotlib.pyplot import figure\n",
    "from folium import plugins\n",
    "from folium.plugins import HeatMapWithTime\n",
    "import folium\n",
    "import geopandas as gpd\n",
    "from folium.plugins import HeatMap\n",
    "%matplotlib inline"
   ]
  },
  {
   "cell_type": "code",
   "execution_count": 2,
   "metadata": {},
   "outputs": [],
   "source": [
    "#maximize cell\n",
    "pd.set_option('display.max_rows', 500)\n",
    "pd.set_option('display.max_columns', 500)\n",
    "pd.set_option('display.width', 1000)"
   ]
  },
  {
   "cell_type": "code",
   "execution_count": 3,
   "metadata": {},
   "outputs": [
    {
     "data": {
      "text/plain": [
       "200"
      ]
     },
     "execution_count": 3,
     "metadata": {},
     "output_type": "execute_result"
    }
   ],
   "source": [
    "website_url = 'http://maavianrecords.com/review-list/white-ibis/'\n",
    "result = requests.get(website_url)\n",
    "\n",
    "result.status_code"
   ]
  },
  {
   "cell_type": "code",
   "execution_count": 4,
   "metadata": {
    "collapsed": true
   },
   "outputs": [
    {
     "ename": "HTTPError",
     "evalue": "HTTP Error 403: Forbidden",
     "output_type": "error",
     "traceback": [
      "\u001b[0;31m---------------------------------------------------------------------------\u001b[0m",
      "\u001b[0;31mHTTPError\u001b[0m                                 Traceback (most recent call last)",
      "\u001b[0;32m<ipython-input-4-95cd74de5a59>\u001b[0m in \u001b[0;36m<module>\u001b[0;34m\u001b[0m\n\u001b[0;32m----> 1\u001b[0;31m \u001b[0mtables\u001b[0m \u001b[0;34m=\u001b[0m \u001b[0mpd\u001b[0m\u001b[0;34m.\u001b[0m\u001b[0mread_html\u001b[0m\u001b[0;34m(\u001b[0m\u001b[0mwebsite_url\u001b[0m\u001b[0;34m)\u001b[0m\u001b[0;34m\u001b[0m\u001b[0m\n\u001b[0m",
      "\u001b[0;32m~/.pyenv/versions/3.6.0/lib/python3.6/site-packages/pandas/io/html.py\u001b[0m in \u001b[0;36mread_html\u001b[0;34m(io, match, flavor, header, index_col, skiprows, attrs, parse_dates, thousands, encoding, decimal, converters, na_values, keep_default_na, displayed_only)\u001b[0m\n\u001b[1;32m   1103\u001b[0m         \u001b[0mna_values\u001b[0m\u001b[0;34m=\u001b[0m\u001b[0mna_values\u001b[0m\u001b[0;34m,\u001b[0m\u001b[0;34m\u001b[0m\u001b[0m\n\u001b[1;32m   1104\u001b[0m         \u001b[0mkeep_default_na\u001b[0m\u001b[0;34m=\u001b[0m\u001b[0mkeep_default_na\u001b[0m\u001b[0;34m,\u001b[0m\u001b[0;34m\u001b[0m\u001b[0m\n\u001b[0;32m-> 1105\u001b[0;31m         \u001b[0mdisplayed_only\u001b[0m\u001b[0;34m=\u001b[0m\u001b[0mdisplayed_only\u001b[0m\u001b[0;34m,\u001b[0m\u001b[0;34m\u001b[0m\u001b[0m\n\u001b[0m\u001b[1;32m   1106\u001b[0m     )\n",
      "\u001b[0;32m~/.pyenv/versions/3.6.0/lib/python3.6/site-packages/pandas/io/html.py\u001b[0m in \u001b[0;36m_parse\u001b[0;34m(flavor, io, match, attrs, encoding, displayed_only, **kwargs)\u001b[0m\n\u001b[1;32m    910\u001b[0m             \u001b[0;32mbreak\u001b[0m\u001b[0;34m\u001b[0m\u001b[0m\n\u001b[1;32m    911\u001b[0m     \u001b[0;32melse\u001b[0m\u001b[0;34m:\u001b[0m\u001b[0;34m\u001b[0m\u001b[0m\n\u001b[0;32m--> 912\u001b[0;31m         \u001b[0mraise_with_traceback\u001b[0m\u001b[0;34m(\u001b[0m\u001b[0mretained\u001b[0m\u001b[0;34m)\u001b[0m\u001b[0;34m\u001b[0m\u001b[0m\n\u001b[0m\u001b[1;32m    913\u001b[0m \u001b[0;34m\u001b[0m\u001b[0m\n\u001b[1;32m    914\u001b[0m     \u001b[0mret\u001b[0m \u001b[0;34m=\u001b[0m \u001b[0;34m[\u001b[0m\u001b[0;34m]\u001b[0m\u001b[0;34m\u001b[0m\u001b[0m\n",
      "\u001b[0;32m~/.pyenv/versions/3.6.0/lib/python3.6/site-packages/pandas/compat/__init__.py\u001b[0m in \u001b[0;36mraise_with_traceback\u001b[0;34m(exc, traceback)\u001b[0m\n\u001b[1;32m     44\u001b[0m     \u001b[0;32mif\u001b[0m \u001b[0mtraceback\u001b[0m \u001b[0;34m==\u001b[0m \u001b[0mEllipsis\u001b[0m\u001b[0;34m:\u001b[0m\u001b[0;34m\u001b[0m\u001b[0m\n\u001b[1;32m     45\u001b[0m         \u001b[0m_\u001b[0m\u001b[0;34m,\u001b[0m \u001b[0m_\u001b[0m\u001b[0;34m,\u001b[0m \u001b[0mtraceback\u001b[0m \u001b[0;34m=\u001b[0m \u001b[0msys\u001b[0m\u001b[0;34m.\u001b[0m\u001b[0mexc_info\u001b[0m\u001b[0;34m(\u001b[0m\u001b[0;34m)\u001b[0m\u001b[0;34m\u001b[0m\u001b[0m\n\u001b[0;32m---> 46\u001b[0;31m     \u001b[0;32mraise\u001b[0m \u001b[0mexc\u001b[0m\u001b[0;34m.\u001b[0m\u001b[0mwith_traceback\u001b[0m\u001b[0;34m(\u001b[0m\u001b[0mtraceback\u001b[0m\u001b[0;34m)\u001b[0m\u001b[0;34m\u001b[0m\u001b[0m\n\u001b[0m\u001b[1;32m     47\u001b[0m \u001b[0;34m\u001b[0m\u001b[0m\n\u001b[1;32m     48\u001b[0m \u001b[0;34m\u001b[0m\u001b[0m\n",
      "\u001b[0;31mHTTPError\u001b[0m: HTTP Error 403: Forbidden"
     ]
    }
   ],
   "source": [
    "tables = pd.read_html(website_url)"
   ]
  },
  {
   "cell_type": "code",
   "execution_count": 257,
   "metadata": {},
   "outputs": [],
   "source": [
    "#export tables to csv\n",
    "eeev_year_state.to_csv('eeev_year_state.csv')\n",
    "eeev_year.to_csv('eeev_year.csv')\n",
    "eeev_state.to_csv('eeev_state.csv')\n",
    "eeev_death.to_csv('eeev_death.csv')\n",
    "eeev_year_state.to_csv('eeev_year_state.csv')"
   ]
  },
  {
   "cell_type": "code",
   "execution_count": null,
   "metadata": {},
   "outputs": [],
   "source": [
    "#clean up in excesl and import back to pandas\n",
    "eeev_year=pd.read_csv('eeev_year.csv',index_col=0)\n",
    "eeev_state=pd.read_csv('eeev_state.csv',index_col=0)\n",
    "eeev_death=pd.read_csv('eeev_death.csv',index_col=0)\n",
    "eeev_year_state=pd.read_csv('eeev_year_state.csv',index_col=0)"
   ]
  },
  {
   "cell_type": "code",
   "execution_count": null,
   "metadata": {},
   "outputs": [],
   "source": [
    "#plt EEEV cases US\n",
    "eeev_year.plot(kind='bar',x='Year',y='Number of Reported Cases',label='Number of EEE cases');\n",
    "plt.legend()\n",
    "plt.xticks(rotation=0);"
   ]
  },
  {
   "cell_type": "code",
   "execution_count": 211,
   "metadata": {
    "collapsed": true
   },
   "outputs": [
    {
     "data": {
      "text/plain": [
       "<matplotlib.legend.Legend at 0x120df2908>"
      ]
     },
     "execution_count": 211,
     "metadata": {},
     "output_type": "execute_result"
    },
    {
     "data": {
      "image/png": "[encoded data removed]",
      "text/plain": [
       "<Figure size 432x288 with 1 Axes>"
      ]
     },
     "metadata": {
      "needs_background": "light"
     },
     "output_type": "display_data"
    }
   ],
   "source": [
    "# plot mosquito collection months massachusetts\n",
    "eeev_collection=pd.read_csv('mass_mosquito_collect_date.csv')\n",
    "eeev_collection.plot(kind='bar',x='month_collected',y='count',label='positive EEEV mosquitoes')\n",
    "plt.xticks(rotation=0)\n",
    "plt.legend()"
   ]
  },
  {
   "cell_type": "code",
   "execution_count": 321,
   "metadata": {
    "collapsed": true
   },
   "outputs": [
    {
     "data": {
      "text/plain": [
       "<matplotlib.legend.Legend at 0x12ee26f28>"
      ]
     },
     "execution_count": 321,
     "metadata": {},
     "output_type": "execute_result"
    },
    {
     "data": {
      "image/png": "[encoded data removed]",
      "text/plain": [
       "<Figure size 432x288 with 1 Axes>"
      ]
     },
     "metadata": {
      "needs_background": "light"
     },
     "output_type": "display_data"
    }
   ],
   "source": [
    "#same graph above but line chart\n",
    "plt.plot('month_collected','count',data = eeev_collection,marker='o',label='positive EEEV mosquitoes')\n",
    "plt.xticks(rotation=0)\n",
    "plt.legend()"
   ]
  },
  {
   "cell_type": "code",
   "execution_count": 201,
   "metadata": {
    "collapsed": true
   },
   "outputs": [
    {
     "data": {
      "text/html": [
       "<div>\n",
       "<style scoped>\n",
       "    .dataframe tbody tr th:only-of-type {\n",
       "        vertical-align: middle;\n",
       "    }\n",
       "\n",
       "    .dataframe tbody tr th {\n",
       "        vertical-align: top;\n",
       "    }\n",
       "\n",
       "    .dataframe thead th {\n",
       "        text-align: right;\n",
       "    }\n",
       "</style>\n",
       "<table border=\"1\" class=\"dataframe\">\n",
       "  <thead>\n",
       "    <tr style=\"text-align: right;\">\n",
       "      <th></th>\n",
       "      <th>Year</th>\n",
       "      <th>Cases</th>\n",
       "      <th>Deaths</th>\n",
       "      <th>Mortality_rate</th>\n",
       "    </tr>\n",
       "  </thead>\n",
       "  <tbody>\n",
       "    <tr>\n",
       "      <td>0</td>\n",
       "      <td>2009</td>\n",
       "      <td>3</td>\n",
       "      <td>1</td>\n",
       "      <td>33</td>\n",
       "    </tr>\n",
       "    <tr>\n",
       "      <td>1</td>\n",
       "      <td>2010</td>\n",
       "      <td>10</td>\n",
       "      <td>5</td>\n",
       "      <td>50</td>\n",
       "    </tr>\n",
       "    <tr>\n",
       "      <td>2</td>\n",
       "      <td>2011</td>\n",
       "      <td>4</td>\n",
       "      <td>3</td>\n",
       "      <td>75</td>\n",
       "    </tr>\n",
       "    <tr>\n",
       "      <td>3</td>\n",
       "      <td>2012</td>\n",
       "      <td>15</td>\n",
       "      <td>5</td>\n",
       "      <td>33</td>\n",
       "    </tr>\n",
       "    <tr>\n",
       "      <td>4</td>\n",
       "      <td>2013</td>\n",
       "      <td>8</td>\n",
       "      <td>4</td>\n",
       "      <td>50</td>\n",
       "    </tr>\n",
       "    <tr>\n",
       "      <td>5</td>\n",
       "      <td>2014</td>\n",
       "      <td>8</td>\n",
       "      <td>2</td>\n",
       "      <td>25</td>\n",
       "    </tr>\n",
       "    <tr>\n",
       "      <td>6</td>\n",
       "      <td>2015</td>\n",
       "      <td>6</td>\n",
       "      <td>4</td>\n",
       "      <td>67</td>\n",
       "    </tr>\n",
       "    <tr>\n",
       "      <td>7</td>\n",
       "      <td>2016</td>\n",
       "      <td>7</td>\n",
       "      <td>3</td>\n",
       "      <td>43</td>\n",
       "    </tr>\n",
       "    <tr>\n",
       "      <td>8</td>\n",
       "      <td>2017</td>\n",
       "      <td>5</td>\n",
       "      <td>2</td>\n",
       "      <td>40</td>\n",
       "    </tr>\n",
       "    <tr>\n",
       "      <td>9</td>\n",
       "      <td>2018</td>\n",
       "      <td>6</td>\n",
       "      <td>1</td>\n",
       "      <td>17</td>\n",
       "    </tr>\n",
       "    <tr>\n",
       "      <td>10</td>\n",
       "      <td>2019</td>\n",
       "      <td>36</td>\n",
       "      <td>14</td>\n",
       "      <td>39</td>\n",
       "    </tr>\n",
       "  </tbody>\n",
       "</table>\n",
       "</div>"
      ],
      "text/plain": [
       "    Year  Cases  Deaths  Mortality_rate\n",
       "0   2009      3       1              33\n",
       "1   2010     10       5              50\n",
       "2   2011      4       3              75\n",
       "3   2012     15       5              33\n",
       "4   2013      8       4              50\n",
       "5   2014      8       2              25\n",
       "6   2015      6       4              67\n",
       "7   2016      7       3              43\n",
       "8   2017      5       2              40\n",
       "9   2018      6       1              17\n",
       "10  2019     36      14              39"
      ]
     },
     "execution_count": 201,
     "metadata": {},
     "output_type": "execute_result"
    }
   ],
   "source": [
    "eeev_death=pd.read_csv('eeev_death.csv',index_col=0)\n",
    "eeev_death"
   ]
  },
  {
   "cell_type": "code",
   "execution_count": 203,
   "metadata": {
    "collapsed": true
   },
   "outputs": [
    {
     "data": {
      "image/png": "[encoded data removed]",
      "text/plain": [
       "<Figure size 1200x480 with 1 Axes>"
      ]
     },
     "metadata": {},
     "output_type": "display_data"
    }
   ],
   "source": [
    "#line chart for infection and death counts for US by year\n",
    "plt.figure(num=None, figsize=(15, 6), dpi=80, facecolor='w', edgecolor='k')\n",
    "plt.plot('Year','Cases',data=eeev_death,marker='o',label='Cases')\n",
    "plt.plot('Year','Deaths',data=eeev_death,marker='x',label='Deaths')\n",
    "plt.legend();"
   ]
  },
  {
   "cell_type": "code",
   "execution_count": 215,
   "metadata": {
    "collapsed": true
   },
   "outputs": [
    {
     "data": {
      "text/html": [
       "<div>\n",
       "<style scoped>\n",
       "    .dataframe tbody tr th:only-of-type {\n",
       "        vertical-align: middle;\n",
       "    }\n",
       "\n",
       "    .dataframe tbody tr th {\n",
       "        vertical-align: top;\n",
       "    }\n",
       "\n",
       "    .dataframe thead th {\n",
       "        text-align: right;\n",
       "    }\n",
       "</style>\n",
       "<table border=\"1\" class=\"dataframe\">\n",
       "  <thead>\n",
       "    <tr style=\"text-align: right;\">\n",
       "      <th></th>\n",
       "      <th>State</th>\n",
       "      <th>Number of Reported Cases(2009-2018)</th>\n",
       "      <th>2019</th>\n",
       "    </tr>\n",
       "  </thead>\n",
       "  <tbody>\n",
       "    <tr>\n",
       "      <td>0</td>\n",
       "      <td>Alabama</td>\n",
       "      <td>1</td>\n",
       "      <td>0</td>\n",
       "    </tr>\n",
       "    <tr>\n",
       "      <td>1</td>\n",
       "      <td>Arkansas</td>\n",
       "      <td>1</td>\n",
       "      <td>0</td>\n",
       "    </tr>\n",
       "    <tr>\n",
       "      <td>2</td>\n",
       "      <td>Connecticut</td>\n",
       "      <td>1</td>\n",
       "      <td>4</td>\n",
       "    </tr>\n",
       "    <tr>\n",
       "      <td>3</td>\n",
       "      <td>Florida</td>\n",
       "      <td>13</td>\n",
       "      <td>0</td>\n",
       "    </tr>\n",
       "    <tr>\n",
       "      <td>4</td>\n",
       "      <td>Georgia</td>\n",
       "      <td>6</td>\n",
       "      <td>0</td>\n",
       "    </tr>\n",
       "    <tr>\n",
       "      <td>5</td>\n",
       "      <td>Indiana</td>\n",
       "      <td>0</td>\n",
       "      <td>1</td>\n",
       "    </tr>\n",
       "    <tr>\n",
       "      <td>6</td>\n",
       "      <td>Louisiana</td>\n",
       "      <td>2</td>\n",
       "      <td>0</td>\n",
       "    </tr>\n",
       "    <tr>\n",
       "      <td>7</td>\n",
       "      <td>Maine</td>\n",
       "      <td>2</td>\n",
       "      <td>0</td>\n",
       "    </tr>\n",
       "    <tr>\n",
       "      <td>8</td>\n",
       "      <td>Maryland</td>\n",
       "      <td>1</td>\n",
       "      <td>0</td>\n",
       "    </tr>\n",
       "    <tr>\n",
       "      <td>9</td>\n",
       "      <td>Massachusetts</td>\n",
       "      <td>10</td>\n",
       "      <td>12</td>\n",
       "    </tr>\n",
       "    <tr>\n",
       "      <td>10</td>\n",
       "      <td>Michigan</td>\n",
       "      <td>7</td>\n",
       "      <td>10</td>\n",
       "    </tr>\n",
       "    <tr>\n",
       "      <td>11</td>\n",
       "      <td>Missouri</td>\n",
       "      <td>1</td>\n",
       "      <td>0</td>\n",
       "    </tr>\n",
       "    <tr>\n",
       "      <td>12</td>\n",
       "      <td>Montana</td>\n",
       "      <td>1</td>\n",
       "      <td>0</td>\n",
       "    </tr>\n",
       "    <tr>\n",
       "      <td>13</td>\n",
       "      <td>New Hampshire</td>\n",
       "      <td>3</td>\n",
       "      <td>0</td>\n",
       "    </tr>\n",
       "    <tr>\n",
       "      <td>14</td>\n",
       "      <td>New Jersey</td>\n",
       "      <td>1</td>\n",
       "      <td>4</td>\n",
       "    </tr>\n",
       "    <tr>\n",
       "      <td>15</td>\n",
       "      <td>New York</td>\n",
       "      <td>8</td>\n",
       "      <td>0</td>\n",
       "    </tr>\n",
       "    <tr>\n",
       "      <td>16</td>\n",
       "      <td>North Carolina</td>\n",
       "      <td>7</td>\n",
       "      <td>1</td>\n",
       "    </tr>\n",
       "    <tr>\n",
       "      <td>17</td>\n",
       "      <td>Pennsylvania</td>\n",
       "      <td>1</td>\n",
       "      <td>0</td>\n",
       "    </tr>\n",
       "    <tr>\n",
       "      <td>18</td>\n",
       "      <td>Rhode Island</td>\n",
       "      <td>1</td>\n",
       "      <td>3</td>\n",
       "    </tr>\n",
       "    <tr>\n",
       "      <td>19</td>\n",
       "      <td>Tennessee</td>\n",
       "      <td>0</td>\n",
       "      <td>1</td>\n",
       "    </tr>\n",
       "    <tr>\n",
       "      <td>20</td>\n",
       "      <td>Vermont</td>\n",
       "      <td>2</td>\n",
       "      <td>0</td>\n",
       "    </tr>\n",
       "    <tr>\n",
       "      <td>21</td>\n",
       "      <td>Virginia</td>\n",
       "      <td>1</td>\n",
       "      <td>0</td>\n",
       "    </tr>\n",
       "    <tr>\n",
       "      <td>22</td>\n",
       "      <td>Wisconsin</td>\n",
       "      <td>2</td>\n",
       "      <td>0</td>\n",
       "    </tr>\n",
       "  </tbody>\n",
       "</table>\n",
       "</div>"
      ],
      "text/plain": [
       "             State  Number of Reported Cases(2009-2018)  2019\n",
       "0          Alabama                                    1     0\n",
       "1         Arkansas                                    1     0\n",
       "2      Connecticut                                    1     4\n",
       "3          Florida                                   13     0\n",
       "4          Georgia                                    6     0\n",
       "5          Indiana                                    0     1\n",
       "6        Louisiana                                    2     0\n",
       "7            Maine                                    2     0\n",
       "8         Maryland                                    1     0\n",
       "9    Massachusetts                                   10    12\n",
       "10        Michigan                                    7    10\n",
       "11        Missouri                                    1     0\n",
       "12         Montana                                    1     0\n",
       "13   New Hampshire                                    3     0\n",
       "14      New Jersey                                    1     4\n",
       "15        New York                                    8     0\n",
       "16  North Carolina                                    7     1\n",
       "17    Pennsylvania                                    1     0\n",
       "18    Rhode Island                                    1     3\n",
       "19       Tennessee                                    0     1\n",
       "20         Vermont                                    2     0\n",
       "21        Virginia                                    1     0\n",
       "22       Wisconsin                                    2     0"
      ]
     },
     "execution_count": 215,
     "metadata": {},
     "output_type": "execute_result"
    }
   ],
   "source": [
    "eeev_state"
   ]
  },
  {
   "cell_type": "code",
   "execution_count": 344,
   "metadata": {
    "collapsed": true
   },
   "outputs": [
    {
     "ename": "ValueError",
     "evalue": "Unrecognized character N in format string",
     "output_type": "error",
     "traceback": [
      "\u001b[0;31m---------------------------------------------------------------------------\u001b[0m",
      "\u001b[0;31mValueError\u001b[0m                                Traceback (most recent call last)",
      "\u001b[0;32m<ipython-input-344-caa027e24c87>\u001b[0m in \u001b[0;36m<module>\u001b[0;34m\u001b[0m\n\u001b[1;32m      1\u001b[0m \u001b[0mplt\u001b[0m\u001b[0;34m.\u001b[0m\u001b[0mfigure\u001b[0m\u001b[0;34m(\u001b[0m\u001b[0mnum\u001b[0m\u001b[0;34m=\u001b[0m\u001b[0;32mNone\u001b[0m\u001b[0;34m,\u001b[0m \u001b[0mfigsize\u001b[0m\u001b[0;34m=\u001b[0m\u001b[0;34m(\u001b[0m\u001b[0;36m15\u001b[0m\u001b[0;34m,\u001b[0m \u001b[0;36m6\u001b[0m\u001b[0;34m)\u001b[0m\u001b[0;34m,\u001b[0m \u001b[0mdpi\u001b[0m\u001b[0;34m=\u001b[0m\u001b[0;36m80\u001b[0m\u001b[0;34m,\u001b[0m \u001b[0mfacecolor\u001b[0m\u001b[0;34m=\u001b[0m\u001b[0;34m'w'\u001b[0m\u001b[0;34m,\u001b[0m \u001b[0medgecolor\u001b[0m\u001b[0;34m=\u001b[0m\u001b[0;34m'k'\u001b[0m\u001b[0;34m)\u001b[0m\u001b[0;34m\u001b[0m\u001b[0m\n\u001b[0;32m----> 2\u001b[0;31m \u001b[0mplt\u001b[0m\u001b[0;34m.\u001b[0m\u001b[0mplot\u001b[0m\u001b[0;34m(\u001b[0m\u001b[0;34m'State'\u001b[0m\u001b[0;34m,\u001b[0m\u001b[0;34m'Number of Reported Cases(2009-2018)'\u001b[0m\u001b[0;34m,\u001b[0m\u001b[0mdata\u001b[0m\u001b[0;34m=\u001b[0m\u001b[0meeev_state\u001b[0m\u001b[0;34m,\u001b[0m\u001b[0mmarker\u001b[0m\u001b[0;34m=\u001b[0m\u001b[0;34m'o'\u001b[0m\u001b[0;34m,\u001b[0m\u001b[0mlabel\u001b[0m\u001b[0;34m=\u001b[0m\u001b[0;34m'2009-2018'\u001b[0m\u001b[0;34m)\u001b[0m\u001b[0;34m\u001b[0m\u001b[0m\n\u001b[0m\u001b[1;32m      3\u001b[0m \u001b[0mplt\u001b[0m\u001b[0;34m.\u001b[0m\u001b[0mplot\u001b[0m\u001b[0;34m(\u001b[0m\u001b[0;34m'State'\u001b[0m\u001b[0;34m,\u001b[0m\u001b[0;34m'2019'\u001b[0m\u001b[0;34m,\u001b[0m\u001b[0mdata\u001b[0m\u001b[0;34m=\u001b[0m\u001b[0meeev_state\u001b[0m\u001b[0;34m,\u001b[0m\u001b[0mmarker\u001b[0m\u001b[0;34m=\u001b[0m\u001b[0;34m'x'\u001b[0m\u001b[0;34m,\u001b[0m\u001b[0mlabel\u001b[0m\u001b[0;34m=\u001b[0m\u001b[0;34m'2019'\u001b[0m\u001b[0;34m)\u001b[0m\u001b[0;34m\u001b[0m\u001b[0m\n\u001b[1;32m      4\u001b[0m \u001b[0mplt\u001b[0m\u001b[0;34m.\u001b[0m\u001b[0mxticks\u001b[0m\u001b[0;34m(\u001b[0m\u001b[0mrotation\u001b[0m\u001b[0;34m=\u001b[0m\u001b[0;36m90\u001b[0m\u001b[0;34m)\u001b[0m\u001b[0;34m\u001b[0m\u001b[0m\n\u001b[1;32m      5\u001b[0m \u001b[0mplt\u001b[0m\u001b[0;34m.\u001b[0m\u001b[0mlegend\u001b[0m\u001b[0;34m(\u001b[0m\u001b[0;34m)\u001b[0m\u001b[0;34m;\u001b[0m\u001b[0;34m\u001b[0m\u001b[0m\n",
      "\u001b[0;32m~/.pyenv/versions/3.6.0/lib/python3.6/site-packages/matplotlib/pyplot.py\u001b[0m in \u001b[0;36mplot\u001b[0;34m(scalex, scaley, data, *args, **kwargs)\u001b[0m\n\u001b[1;32m   2793\u001b[0m     return gca().plot(\n\u001b[1;32m   2794\u001b[0m         *args, scalex=scalex, scaley=scaley, **({\"data\": data} if data\n\u001b[0;32m-> 2795\u001b[0;31m         is not None else {}), **kwargs)\n\u001b[0m\u001b[1;32m   2796\u001b[0m \u001b[0;34m\u001b[0m\u001b[0m\n\u001b[1;32m   2797\u001b[0m \u001b[0;34m\u001b[0m\u001b[0m\n",
      "\u001b[0;32m~/.pyenv/versions/3.6.0/lib/python3.6/site-packages/matplotlib/axes/_axes.py\u001b[0m in \u001b[0;36mplot\u001b[0;34m(self, scalex, scaley, data, *args, **kwargs)\u001b[0m\n\u001b[1;32m   1664\u001b[0m         \"\"\"\n\u001b[1;32m   1665\u001b[0m         \u001b[0mkwargs\u001b[0m \u001b[0;34m=\u001b[0m \u001b[0mcbook\u001b[0m\u001b[0;34m.\u001b[0m\u001b[0mnormalize_kwargs\u001b[0m\u001b[0;34m(\u001b[0m\u001b[0mkwargs\u001b[0m\u001b[0;34m,\u001b[0m \u001b[0mmlines\u001b[0m\u001b[0;34m.\u001b[0m\u001b[0mLine2D\u001b[0m\u001b[0;34m.\u001b[0m\u001b[0m_alias_map\u001b[0m\u001b[0;34m)\u001b[0m\u001b[0;34m\u001b[0m\u001b[0m\n\u001b[0;32m-> 1666\u001b[0;31m         \u001b[0mlines\u001b[0m \u001b[0;34m=\u001b[0m \u001b[0;34m[\u001b[0m\u001b[0;34m*\u001b[0m\u001b[0mself\u001b[0m\u001b[0;34m.\u001b[0m\u001b[0m_get_lines\u001b[0m\u001b[0;34m(\u001b[0m\u001b[0;34m*\u001b[0m\u001b[0margs\u001b[0m\u001b[0;34m,\u001b[0m \u001b[0mdata\u001b[0m\u001b[0;34m=\u001b[0m\u001b[0mdata\u001b[0m\u001b[0;34m,\u001b[0m \u001b[0;34m**\u001b[0m\u001b[0mkwargs\u001b[0m\u001b[0;34m)\u001b[0m\u001b[0;34m]\u001b[0m\u001b[0;34m\u001b[0m\u001b[0m\n\u001b[0m\u001b[1;32m   1667\u001b[0m         \u001b[0;32mfor\u001b[0m \u001b[0mline\u001b[0m \u001b[0;32min\u001b[0m \u001b[0mlines\u001b[0m\u001b[0;34m:\u001b[0m\u001b[0;34m\u001b[0m\u001b[0m\n\u001b[1;32m   1668\u001b[0m             \u001b[0mself\u001b[0m\u001b[0;34m.\u001b[0m\u001b[0madd_line\u001b[0m\u001b[0;34m(\u001b[0m\u001b[0mline\u001b[0m\u001b[0;34m)\u001b[0m\u001b[0;34m\u001b[0m\u001b[0m\n",
      "\u001b[0;32m~/.pyenv/versions/3.6.0/lib/python3.6/site-packages/matplotlib/axes/_base.py\u001b[0m in \u001b[0;36m__call__\u001b[0;34m(self, *args, **kwargs)\u001b[0m\n\u001b[1;32m    223\u001b[0m                 \u001b[0mthis\u001b[0m \u001b[0;34m+=\u001b[0m \u001b[0margs\u001b[0m\u001b[0;34m[\u001b[0m\u001b[0;36m0\u001b[0m\u001b[0;34m]\u001b[0m\u001b[0;34m,\u001b[0m\u001b[0;34m\u001b[0m\u001b[0m\n\u001b[1;32m    224\u001b[0m                 \u001b[0margs\u001b[0m \u001b[0;34m=\u001b[0m \u001b[0margs\u001b[0m\u001b[0;34m[\u001b[0m\u001b[0;36m1\u001b[0m\u001b[0;34m:\u001b[0m\u001b[0;34m]\u001b[0m\u001b[0;34m\u001b[0m\u001b[0m\n\u001b[0;32m--> 225\u001b[0;31m             \u001b[0;32myield\u001b[0m \u001b[0;32mfrom\u001b[0m \u001b[0mself\u001b[0m\u001b[0;34m.\u001b[0m\u001b[0m_plot_args\u001b[0m\u001b[0;34m(\u001b[0m\u001b[0mthis\u001b[0m\u001b[0;34m,\u001b[0m \u001b[0mkwargs\u001b[0m\u001b[0;34m)\u001b[0m\u001b[0;34m\u001b[0m\u001b[0m\n\u001b[0m\u001b[1;32m    226\u001b[0m \u001b[0;34m\u001b[0m\u001b[0m\n\u001b[1;32m    227\u001b[0m     \u001b[0;32mdef\u001b[0m \u001b[0mget_next_color\u001b[0m\u001b[0;34m(\u001b[0m\u001b[0mself\u001b[0m\u001b[0;34m)\u001b[0m\u001b[0;34m:\u001b[0m\u001b[0;34m\u001b[0m\u001b[0m\n",
      "\u001b[0;32m~/.pyenv/versions/3.6.0/lib/python3.6/site-packages/matplotlib/axes/_base.py\u001b[0m in \u001b[0;36m_plot_args\u001b[0;34m(self, tup, kwargs)\u001b[0m\n\u001b[1;32m    364\u001b[0m         \u001b[0mret\u001b[0m \u001b[0;34m=\u001b[0m \u001b[0;34m[\u001b[0m\u001b[0;34m]\u001b[0m\u001b[0;34m\u001b[0m\u001b[0m\n\u001b[1;32m    365\u001b[0m         \u001b[0;32mif\u001b[0m \u001b[0mlen\u001b[0m\u001b[0;34m(\u001b[0m\u001b[0mtup\u001b[0m\u001b[0;34m)\u001b[0m \u001b[0;34m>\u001b[0m \u001b[0;36m1\u001b[0m \u001b[0;32mand\u001b[0m \u001b[0misinstance\u001b[0m\u001b[0;34m(\u001b[0m\u001b[0mtup\u001b[0m\u001b[0;34m[\u001b[0m\u001b[0;34m-\u001b[0m\u001b[0;36m1\u001b[0m\u001b[0;34m]\u001b[0m\u001b[0;34m,\u001b[0m \u001b[0mstr\u001b[0m\u001b[0;34m)\u001b[0m\u001b[0;34m:\u001b[0m\u001b[0;34m\u001b[0m\u001b[0m\n\u001b[0;32m--> 366\u001b[0;31m             \u001b[0mlinestyle\u001b[0m\u001b[0;34m,\u001b[0m \u001b[0mmarker\u001b[0m\u001b[0;34m,\u001b[0m \u001b[0mcolor\u001b[0m \u001b[0;34m=\u001b[0m \u001b[0m_process_plot_format\u001b[0m\u001b[0;34m(\u001b[0m\u001b[0mtup\u001b[0m\u001b[0;34m[\u001b[0m\u001b[0;34m-\u001b[0m\u001b[0;36m1\u001b[0m\u001b[0;34m]\u001b[0m\u001b[0;34m)\u001b[0m\u001b[0;34m\u001b[0m\u001b[0m\n\u001b[0m\u001b[1;32m    367\u001b[0m             \u001b[0mtup\u001b[0m \u001b[0;34m=\u001b[0m \u001b[0mtup\u001b[0m\u001b[0;34m[\u001b[0m\u001b[0;34m:\u001b[0m\u001b[0;34m-\u001b[0m\u001b[0;36m1\u001b[0m\u001b[0;34m]\u001b[0m\u001b[0;34m\u001b[0m\u001b[0m\n\u001b[1;32m    368\u001b[0m         \u001b[0;32melif\u001b[0m \u001b[0mlen\u001b[0m\u001b[0;34m(\u001b[0m\u001b[0mtup\u001b[0m\u001b[0;34m)\u001b[0m \u001b[0;34m==\u001b[0m \u001b[0;36m3\u001b[0m\u001b[0;34m:\u001b[0m\u001b[0;34m\u001b[0m\u001b[0m\n",
      "\u001b[0;32m~/.pyenv/versions/3.6.0/lib/python3.6/site-packages/matplotlib/axes/_base.py\u001b[0m in \u001b[0;36m_process_plot_format\u001b[0;34m(fmt)\u001b[0m\n\u001b[1;32m    104\u001b[0m         \u001b[0;32melse\u001b[0m\u001b[0;34m:\u001b[0m\u001b[0;34m\u001b[0m\u001b[0m\n\u001b[1;32m    105\u001b[0m             raise ValueError(\n\u001b[0;32m--> 106\u001b[0;31m                 'Unrecognized character %c in format string' % c)\n\u001b[0m\u001b[1;32m    107\u001b[0m \u001b[0;34m\u001b[0m\u001b[0m\n\u001b[1;32m    108\u001b[0m     \u001b[0;32mif\u001b[0m \u001b[0mlinestyle\u001b[0m \u001b[0;32mis\u001b[0m \u001b[0;32mNone\u001b[0m \u001b[0;32mand\u001b[0m \u001b[0mmarker\u001b[0m \u001b[0;32mis\u001b[0m \u001b[0;32mNone\u001b[0m\u001b[0;34m:\u001b[0m\u001b[0;34m\u001b[0m\u001b[0m\n",
      "\u001b[0;31mValueError\u001b[0m: Unrecognized character N in format string"
     ]
    },
    {
     "data": {
      "image/png": "[encoded data removed]",
      "text/plain": [
       "<Figure size 1200x480 with 1 Axes>"
      ]
     },
     "metadata": {},
     "output_type": "display_data"
    }
   ],
   "source": [
    "#comparison of past 10 years vs 2019.\n",
    "plt.figure(num=None, figsize=(15, 6), dpi=80, facecolor='w', edgecolor='k')\n",
    "plt.plot('State','Number of Reported Cases(2009-2018)',data=eeev_state,marker='o',label='2009-2018')\n",
    "plt.plot('State','2019',data=eeev_state,marker='x',label='2019')\n",
    "plt.xticks(rotation=90)\n",
    "plt.legend();\n"
   ]
  },
  {
   "cell_type": "code",
   "execution_count": 281,
   "metadata": {
    "collapsed": true
   },
   "outputs": [
    {
     "data": {
      "text/html": [
       "<div>\n",
       "<style scoped>\n",
       "    .dataframe tbody tr th:only-of-type {\n",
       "        vertical-align: middle;\n",
       "    }\n",
       "\n",
       "    .dataframe tbody tr th {\n",
       "        vertical-align: top;\n",
       "    }\n",
       "\n",
       "    .dataframe thead th {\n",
       "        text-align: right;\n",
       "    }\n",
       "</style>\n",
       "<table border=\"1\" class=\"dataframe\">\n",
       "  <thead>\n",
       "    <tr style=\"text-align: right;\">\n",
       "      <th></th>\n",
       "      <th>State</th>\n",
       "      <th>pos_cases</th>\n",
       "      <th>year</th>\n",
       "    </tr>\n",
       "  </thead>\n",
       "  <tbody>\n",
       "    <tr>\n",
       "      <td>0</td>\n",
       "      <td>Alabama</td>\n",
       "      <td>0</td>\n",
       "      <td>2009</td>\n",
       "    </tr>\n",
       "    <tr>\n",
       "      <td>1</td>\n",
       "      <td>Alabama</td>\n",
       "      <td>0</td>\n",
       "      <td>2010</td>\n",
       "    </tr>\n",
       "    <tr>\n",
       "      <td>2</td>\n",
       "      <td>Alabama</td>\n",
       "      <td>0</td>\n",
       "      <td>2011</td>\n",
       "    </tr>\n",
       "    <tr>\n",
       "      <td>3</td>\n",
       "      <td>Alabama</td>\n",
       "      <td>0</td>\n",
       "      <td>2012</td>\n",
       "    </tr>\n",
       "    <tr>\n",
       "      <td>4</td>\n",
       "      <td>Alabama</td>\n",
       "      <td>0</td>\n",
       "      <td>2013</td>\n",
       "    </tr>\n",
       "    <tr>\n",
       "      <td>...</td>\n",
       "      <td>...</td>\n",
       "      <td>...</td>\n",
       "      <td>...</td>\n",
       "    </tr>\n",
       "    <tr>\n",
       "      <td>567</td>\n",
       "      <td>Wyoming</td>\n",
       "      <td>0</td>\n",
       "      <td>2015</td>\n",
       "    </tr>\n",
       "    <tr>\n",
       "      <td>568</td>\n",
       "      <td>Wyoming</td>\n",
       "      <td>0</td>\n",
       "      <td>2016</td>\n",
       "    </tr>\n",
       "    <tr>\n",
       "      <td>569</td>\n",
       "      <td>Wyoming</td>\n",
       "      <td>0</td>\n",
       "      <td>2017</td>\n",
       "    </tr>\n",
       "    <tr>\n",
       "      <td>570</td>\n",
       "      <td>Wyoming</td>\n",
       "      <td>0</td>\n",
       "      <td>2018</td>\n",
       "    </tr>\n",
       "    <tr>\n",
       "      <td>571</td>\n",
       "      <td>Wyoming</td>\n",
       "      <td>0</td>\n",
       "      <td>2019</td>\n",
       "    </tr>\n",
       "  </tbody>\n",
       "</table>\n",
       "<p>572 rows × 3 columns</p>\n",
       "</div>"
      ],
      "text/plain": [
       "       State  pos_cases  year\n",
       "0    Alabama          0  2009\n",
       "1    Alabama          0  2010\n",
       "2    Alabama          0  2011\n",
       "3    Alabama          0  2012\n",
       "4    Alabama          0  2013\n",
       "..       ...        ...   ...\n",
       "567  Wyoming          0  2015\n",
       "568  Wyoming          0  2016\n",
       "569  Wyoming          0  2017\n",
       "570  Wyoming          0  2018\n",
       "571  Wyoming          0  2019\n",
       "\n",
       "[572 rows x 3 columns]"
      ]
     },
     "execution_count": 281,
     "metadata": {},
     "output_type": "execute_result"
    }
   ],
   "source": [
    "#dataframe of each positive human cases by state in 2009-2019\n",
    "eeev_year_state=pd.read_csv('eeev_year_state.csv')\n",
    "eeev_year_state"
   ]
  },
  {
   "cell_type": "code",
   "execution_count": 359,
   "metadata": {},
   "outputs": [
    {
     "data": {
      "image/png": "[encoded data removed]",
      "text/plain": [
       "<Figure size 1200x480 with 1 Axes>"
      ]
     },
     "metadata": {},
     "output_type": "display_data"
    }
   ],
   "source": [
    "#graph of eeev_year state.\n",
    "plt.figure(num=None, figsize=(15, 6), dpi=80, facecolor='w', edgecolor='k')\n",
    "\n",
    "for i in eeev_year_state['State']:\n",
    "    plt.plot('year','pos_cases',data=eeev_year_state[eeev_year_state['State']==i],marker='o')\n",
    "plt.title('EEEV Positive human cases');\n"
   ]
  },
  {
   "cell_type": "code",
   "execution_count": 123,
   "metadata": {},
   "outputs": [],
   "source": [
    "#import massachusetts county numbers(webscraped data)\n",
    "mass_county_pos_mosquito=pd.read_csv('mass_county_pos_mosquito.csv')"
   ]
  },
  {
   "cell_type": "code",
   "execution_count": 124,
   "metadata": {
    "collapsed": true
   },
   "outputs": [
    {
     "data": {
      "image/png": "[encoded data removed]",
      "text/plain": [
       "<Figure size 432x288 with 1 Axes>"
      ]
     },
     "metadata": {
      "needs_background": "light"
     },
     "output_type": "display_data"
    }
   ],
   "source": [
    "#plot previous table\n",
    "mass_county_pos_mosquito.plot(kind='barh',x='county',y='positive_mosquitoes');"
   ]
  },
  {
   "cell_type": "code",
   "execution_count": 325,
   "metadata": {
    "collapsed": true
   },
   "outputs": [
    {
     "data": {
      "text/html": [
       "<div>\n",
       "<style scoped>\n",
       "    .dataframe tbody tr th:only-of-type {\n",
       "        vertical-align: middle;\n",
       "    }\n",
       "\n",
       "    .dataframe tbody tr th {\n",
       "        vertical-align: top;\n",
       "    }\n",
       "\n",
       "    .dataframe thead th {\n",
       "        text-align: right;\n",
       "    }\n",
       "</style>\n",
       "<table border=\"1\" class=\"dataframe\">\n",
       "  <thead>\n",
       "    <tr style=\"text-align: right;\">\n",
       "      <th></th>\n",
       "      <th>Year</th>\n",
       "      <th>Pos_mosquitoes</th>\n",
       "    </tr>\n",
       "  </thead>\n",
       "  <tbody>\n",
       "    <tr>\n",
       "      <td>0</td>\n",
       "      <td>2014</td>\n",
       "      <td>33</td>\n",
       "    </tr>\n",
       "    <tr>\n",
       "      <td>1</td>\n",
       "      <td>2015</td>\n",
       "      <td>1</td>\n",
       "    </tr>\n",
       "    <tr>\n",
       "      <td>2</td>\n",
       "      <td>2016</td>\n",
       "      <td>1</td>\n",
       "    </tr>\n",
       "    <tr>\n",
       "      <td>3</td>\n",
       "      <td>2017</td>\n",
       "      <td>1</td>\n",
       "    </tr>\n",
       "    <tr>\n",
       "      <td>4</td>\n",
       "      <td>2018</td>\n",
       "      <td>2</td>\n",
       "    </tr>\n",
       "    <tr>\n",
       "      <td>5</td>\n",
       "      <td>2019</td>\n",
       "      <td>428</td>\n",
       "    </tr>\n",
       "  </tbody>\n",
       "</table>\n",
       "</div>"
      ],
      "text/plain": [
       "   Year  Pos_mosquitoes\n",
       "0  2014              33\n",
       "1  2015               1\n",
       "2  2016               1\n",
       "3  2017               1\n",
       "4  2018               2\n",
       "5  2019             428"
      ]
     },
     "execution_count": 325,
     "metadata": {},
     "output_type": "execute_result"
    }
   ],
   "source": [
    "mass_pos_mosquito_years"
   ]
  },
  {
   "cell_type": "code",
   "execution_count": 214,
   "metadata": {
    "collapsed": true
   },
   "outputs": [
    {
     "data": {
      "text/plain": [
       "<matplotlib.axes._subplots.AxesSubplot at 0x11730aeb8>"
      ]
     },
     "execution_count": 214,
     "metadata": {},
     "output_type": "execute_result"
    },
    {
     "data": {
      "image/png": "[encoded data removed]",
      "text/plain": [
       "<Figure size 432x288 with 1 Axes>"
      ]
     },
     "metadata": {
      "needs_background": "light"
     },
     "output_type": "display_data"
    }
   ],
   "source": [
    "#plot positive EEEV mosquito counts in massachusetts\n",
    "mass_pos_mosquito_years=pd.read_excel('mass_pos_mosquito_years.xlsx')\n",
    "mass_pos_mosquito_years.plot()\n",
    "plt.xticks(rotation=0)\n",
    "plt.legend()"
   ]
  },
  {
   "cell_type": "code",
   "execution_count": 327,
   "metadata": {
    "collapsed": true
   },
   "outputs": [
    {
     "data": {
      "text/plain": [
       "<matplotlib.legend.Legend at 0x12f04c748>"
      ]
     },
     "execution_count": 327,
     "metadata": {},
     "output_type": "execute_result"
    },
    {
     "data": {
      "image/png": "[encoded data removed]",
      "text/plain": [
       "<Figure size 432x288 with 1 Axes>"
      ]
     },
     "metadata": {
      "needs_background": "light"
     },
     "output_type": "display_data"
    }
   ],
   "source": [
    "#same plot as above but line chart\n",
    "mass_pos_mosquito_years.plot(x='Year',y='Pos_mosquitoes',marker='o',label='positive EEEV mosquitoes')\n",
    "plt.xticks(rotation=0)\n",
    "plt.legend()"
   ]
  },
  {
   "cell_type": "code",
   "execution_count": 170,
   "metadata": {
    "collapsed": true
   },
   "outputs": [
    {
     "data": {
      "text/html": [
       "<div>\n",
       "<style scoped>\n",
       "    .dataframe tbody tr th:only-of-type {\n",
       "        vertical-align: middle;\n",
       "    }\n",
       "\n",
       "    .dataframe tbody tr th {\n",
       "        vertical-align: top;\n",
       "    }\n",
       "\n",
       "    .dataframe thead th {\n",
       "        text-align: right;\n",
       "    }\n",
       "</style>\n",
       "<table border=\"1\" class=\"dataframe\">\n",
       "  <thead>\n",
       "    <tr style=\"text-align: right;\">\n",
       "      <th></th>\n",
       "      <th>city</th>\n",
       "      <th>positive_mosquitoes</th>\n",
       "      <th>latitude</th>\n",
       "      <th>longitude</th>\n",
       "    </tr>\n",
       "  </thead>\n",
       "  <tbody>\n",
       "    <tr>\n",
       "      <td>23</td>\n",
       "      <td>Easton</td>\n",
       "      <td>46</td>\n",
       "      <td>42.02450</td>\n",
       "      <td>-71.1287</td>\n",
       "    </tr>\n",
       "    <tr>\n",
       "      <td>49</td>\n",
       "      <td>New Bedford</td>\n",
       "      <td>35</td>\n",
       "      <td>41.66000</td>\n",
       "      <td>-70.9400</td>\n",
       "    </tr>\n",
       "    <tr>\n",
       "      <td>13</td>\n",
       "      <td>Carver</td>\n",
       "      <td>35</td>\n",
       "      <td>41.88340</td>\n",
       "      <td>-70.7625</td>\n",
       "    </tr>\n",
       "    <tr>\n",
       "      <td>47</td>\n",
       "      <td>Middleborough</td>\n",
       "      <td>25</td>\n",
       "      <td>41.89000</td>\n",
       "      <td>-70.9300</td>\n",
       "    </tr>\n",
       "    <tr>\n",
       "      <td>54</td>\n",
       "      <td>Raynham</td>\n",
       "      <td>25</td>\n",
       "      <td>41.94870</td>\n",
       "      <td>-71.0731</td>\n",
       "    </tr>\n",
       "    <tr>\n",
       "      <td>55</td>\n",
       "      <td>Rehoboth</td>\n",
       "      <td>19</td>\n",
       "      <td>41.84700</td>\n",
       "      <td>-71.2394</td>\n",
       "    </tr>\n",
       "    <tr>\n",
       "      <td>56</td>\n",
       "      <td>Rochester</td>\n",
       "      <td>18</td>\n",
       "      <td>41.75500</td>\n",
       "      <td>70.8453</td>\n",
       "    </tr>\n",
       "    <tr>\n",
       "      <td>27</td>\n",
       "      <td>Freetown</td>\n",
       "      <td>16</td>\n",
       "      <td>41.76200</td>\n",
       "      <td>-71.0141</td>\n",
       "    </tr>\n",
       "    <tr>\n",
       "      <td>41</td>\n",
       "      <td>Marion</td>\n",
       "      <td>15</td>\n",
       "      <td>41.70000</td>\n",
       "      <td>-70.7600</td>\n",
       "    </tr>\n",
       "    <tr>\n",
       "      <td>37</td>\n",
       "      <td>Kingston</td>\n",
       "      <td>13</td>\n",
       "      <td>42.00000</td>\n",
       "      <td>-70.7200</td>\n",
       "    </tr>\n",
       "    <tr>\n",
       "      <td>62</td>\n",
       "      <td>Southborough</td>\n",
       "      <td>13</td>\n",
       "      <td>42.30570</td>\n",
       "      <td>-71.5245</td>\n",
       "    </tr>\n",
       "    <tr>\n",
       "      <td>38</td>\n",
       "      <td>Lakeville</td>\n",
       "      <td>12</td>\n",
       "      <td>41.84590</td>\n",
       "      <td>-70.9495</td>\n",
       "    </tr>\n",
       "    <tr>\n",
       "      <td>68</td>\n",
       "      <td>Wareham</td>\n",
       "      <td>9</td>\n",
       "      <td>41.76150</td>\n",
       "      <td>-70.7197</td>\n",
       "    </tr>\n",
       "    <tr>\n",
       "      <td>26</td>\n",
       "      <td>Falmouth</td>\n",
       "      <td>8</td>\n",
       "      <td>41.55000</td>\n",
       "      <td>-70.6100</td>\n",
       "    </tr>\n",
       "    <tr>\n",
       "      <td>19</td>\n",
       "      <td>Duxbury</td>\n",
       "      <td>8</td>\n",
       "      <td>42.04000</td>\n",
       "      <td>-70.6700</td>\n",
       "    </tr>\n",
       "    <tr>\n",
       "      <td>72</td>\n",
       "      <td>Westborough</td>\n",
       "      <td>6</td>\n",
       "      <td>42.27000</td>\n",
       "      <td>-71.6200</td>\n",
       "    </tr>\n",
       "    <tr>\n",
       "      <td>15</td>\n",
       "      <td>Dartmouth</td>\n",
       "      <td>6</td>\n",
       "      <td>41.61300</td>\n",
       "      <td>-70.9705</td>\n",
       "    </tr>\n",
       "    <tr>\n",
       "      <td>12</td>\n",
       "      <td>Canton</td>\n",
       "      <td>6</td>\n",
       "      <td>42.15840</td>\n",
       "      <td>-71.1448</td>\n",
       "    </tr>\n",
       "    <tr>\n",
       "      <td>31</td>\n",
       "      <td>Hanson</td>\n",
       "      <td>6</td>\n",
       "      <td>42.06000</td>\n",
       "      <td>-70.8500</td>\n",
       "    </tr>\n",
       "    <tr>\n",
       "      <td>73</td>\n",
       "      <td>Westport</td>\n",
       "      <td>5</td>\n",
       "      <td>41.57000</td>\n",
       "      <td>-71.0735</td>\n",
       "    </tr>\n",
       "    <tr>\n",
       "      <td>30</td>\n",
       "      <td>Halifax</td>\n",
       "      <td>5</td>\n",
       "      <td>41.99120</td>\n",
       "      <td>-70.8620</td>\n",
       "    </tr>\n",
       "    <tr>\n",
       "      <td>29</td>\n",
       "      <td>Grafton</td>\n",
       "      <td>4</td>\n",
       "      <td>42.20700</td>\n",
       "      <td>-71.6856</td>\n",
       "    </tr>\n",
       "    <tr>\n",
       "      <td>3</td>\n",
       "      <td>Andover</td>\n",
       "      <td>4</td>\n",
       "      <td>42.66000</td>\n",
       "      <td>-71.1400</td>\n",
       "    </tr>\n",
       "    <tr>\n",
       "      <td>44</td>\n",
       "      <td>Mattapoisett</td>\n",
       "      <td>4</td>\n",
       "      <td>41.67000</td>\n",
       "      <td>-70.8100</td>\n",
       "    </tr>\n",
       "    <tr>\n",
       "      <td>66</td>\n",
       "      <td>Uxbridge</td>\n",
       "      <td>4</td>\n",
       "      <td>42.07720</td>\n",
       "      <td>-71.6303</td>\n",
       "    </tr>\n",
       "    <tr>\n",
       "      <td>21</td>\n",
       "      <td>East Brookfield</td>\n",
       "      <td>4</td>\n",
       "      <td>42.23000</td>\n",
       "      <td>-72.0500</td>\n",
       "    </tr>\n",
       "    <tr>\n",
       "      <td>67</td>\n",
       "      <td>Walpole</td>\n",
       "      <td>4</td>\n",
       "      <td>42.14000</td>\n",
       "      <td>-71.2400</td>\n",
       "    </tr>\n",
       "    <tr>\n",
       "      <td>1</td>\n",
       "      <td>Agawam</td>\n",
       "      <td>3</td>\n",
       "      <td>42.07000</td>\n",
       "      <td>-72.6500</td>\n",
       "    </tr>\n",
       "    <tr>\n",
       "      <td>75</td>\n",
       "      <td>Whitman</td>\n",
       "      <td>3</td>\n",
       "      <td>42.08070</td>\n",
       "      <td>-70.9356</td>\n",
       "    </tr>\n",
       "    <tr>\n",
       "      <td>9</td>\n",
       "      <td>Bridgewater</td>\n",
       "      <td>3</td>\n",
       "      <td>41.99000</td>\n",
       "      <td>-70.9700</td>\n",
       "    </tr>\n",
       "    <tr>\n",
       "      <td>16</td>\n",
       "      <td>Dighton</td>\n",
       "      <td>3</td>\n",
       "      <td>41.84390</td>\n",
       "      <td>-71.1567</td>\n",
       "    </tr>\n",
       "    <tr>\n",
       "      <td>40</td>\n",
       "      <td>Manchester-by-the-Sea</td>\n",
       "      <td>2</td>\n",
       "      <td>42.57780</td>\n",
       "      <td>-70.7676</td>\n",
       "    </tr>\n",
       "    <tr>\n",
       "      <td>10</td>\n",
       "      <td>Brimfield</td>\n",
       "      <td>2</td>\n",
       "      <td>42.50000</td>\n",
       "      <td>-71.2000</td>\n",
       "    </tr>\n",
       "    <tr>\n",
       "      <td>60</td>\n",
       "      <td>Shirley</td>\n",
       "      <td>2</td>\n",
       "      <td>42.54000</td>\n",
       "      <td>-71.6600</td>\n",
       "    </tr>\n",
       "    <tr>\n",
       "      <td>25</td>\n",
       "      <td>Fall River</td>\n",
       "      <td>2</td>\n",
       "      <td>41.71000</td>\n",
       "      <td>-71.1000</td>\n",
       "    </tr>\n",
       "    <tr>\n",
       "      <td>64</td>\n",
       "      <td>Truro</td>\n",
       "      <td>2</td>\n",
       "      <td>41.99480</td>\n",
       "      <td>-70.0490</td>\n",
       "    </tr>\n",
       "    <tr>\n",
       "      <td>45</td>\n",
       "      <td>Mendon</td>\n",
       "      <td>2</td>\n",
       "      <td>42.10570</td>\n",
       "      <td>-71.5523</td>\n",
       "    </tr>\n",
       "    <tr>\n",
       "      <td>17</td>\n",
       "      <td>Douglas</td>\n",
       "      <td>2</td>\n",
       "      <td>42.05430</td>\n",
       "      <td>-71.7394</td>\n",
       "    </tr>\n",
       "    <tr>\n",
       "      <td>6</td>\n",
       "      <td>Bolton</td>\n",
       "      <td>2</td>\n",
       "      <td>42.43340</td>\n",
       "      <td>-71.6078</td>\n",
       "    </tr>\n",
       "    <tr>\n",
       "      <td>7</td>\n",
       "      <td>Bourne</td>\n",
       "      <td>2</td>\n",
       "      <td>41.73000</td>\n",
       "      <td>-70.6200</td>\n",
       "    </tr>\n",
       "    <tr>\n",
       "      <td>69</td>\n",
       "      <td>Wellfleet</td>\n",
       "      <td>2</td>\n",
       "      <td>41.93050</td>\n",
       "      <td>-70.0310</td>\n",
       "    </tr>\n",
       "    <tr>\n",
       "      <td>71</td>\n",
       "      <td>West Newbury</td>\n",
       "      <td>2</td>\n",
       "      <td>42.80150</td>\n",
       "      <td>-70.9898</td>\n",
       "    </tr>\n",
       "    <tr>\n",
       "      <td>74</td>\n",
       "      <td>Weymouth</td>\n",
       "      <td>2</td>\n",
       "      <td>42.21000</td>\n",
       "      <td>-70.9400</td>\n",
       "    </tr>\n",
       "    <tr>\n",
       "      <td>33</td>\n",
       "      <td>Holden</td>\n",
       "      <td>2</td>\n",
       "      <td>42.35180</td>\n",
       "      <td>-71.8634</td>\n",
       "    </tr>\n",
       "    <tr>\n",
       "      <td>4</td>\n",
       "      <td>Avon</td>\n",
       "      <td>2</td>\n",
       "      <td>42.13070</td>\n",
       "      <td>-71.0412</td>\n",
       "    </tr>\n",
       "    <tr>\n",
       "      <td>22</td>\n",
       "      <td>East Longmeadow</td>\n",
       "      <td>2</td>\n",
       "      <td>42.06450</td>\n",
       "      <td>-72.5126</td>\n",
       "    </tr>\n",
       "    <tr>\n",
       "      <td>20</td>\n",
       "      <td>East Bridgewater</td>\n",
       "      <td>2</td>\n",
       "      <td>42.03340</td>\n",
       "      <td>-70.9592</td>\n",
       "    </tr>\n",
       "    <tr>\n",
       "      <td>70</td>\n",
       "      <td>West Bridgewater</td>\n",
       "      <td>1</td>\n",
       "      <td>42.01900</td>\n",
       "      <td>-71.0078</td>\n",
       "    </tr>\n",
       "    <tr>\n",
       "      <td>65</td>\n",
       "      <td>Upton</td>\n",
       "      <td>1</td>\n",
       "      <td>42.18000</td>\n",
       "      <td>-71.6100</td>\n",
       "    </tr>\n",
       "    <tr>\n",
       "      <td>5</td>\n",
       "      <td>Bedford</td>\n",
       "      <td>1</td>\n",
       "      <td>42.49060</td>\n",
       "      <td>-71.2760</td>\n",
       "    </tr>\n",
       "    <tr>\n",
       "      <td>63</td>\n",
       "      <td>Spencer</td>\n",
       "      <td>1</td>\n",
       "      <td>42.25000</td>\n",
       "      <td>-71.9900</td>\n",
       "    </tr>\n",
       "    <tr>\n",
       "      <td>8</td>\n",
       "      <td>Boxford</td>\n",
       "      <td>1</td>\n",
       "      <td>42.67000</td>\n",
       "      <td>-70.9800</td>\n",
       "    </tr>\n",
       "    <tr>\n",
       "      <td>61</td>\n",
       "      <td>Shrewsbury</td>\n",
       "      <td>1</td>\n",
       "      <td>42.29590</td>\n",
       "      <td>-71.7128</td>\n",
       "    </tr>\n",
       "    <tr>\n",
       "      <td>58</td>\n",
       "      <td>Seekonk</td>\n",
       "      <td>1</td>\n",
       "      <td>41.80842</td>\n",
       "      <td>-71.3370</td>\n",
       "    </tr>\n",
       "    <tr>\n",
       "      <td>2</td>\n",
       "      <td>Amesbury</td>\n",
       "      <td>1</td>\n",
       "      <td>42.85000</td>\n",
       "      <td>-70.9400</td>\n",
       "    </tr>\n",
       "    <tr>\n",
       "      <td>59</td>\n",
       "      <td>Sherborn</td>\n",
       "      <td>1</td>\n",
       "      <td>42.23900</td>\n",
       "      <td>-71.3698</td>\n",
       "    </tr>\n",
       "    <tr>\n",
       "      <td>28</td>\n",
       "      <td>Gardner</td>\n",
       "      <td>1</td>\n",
       "      <td>42.58000</td>\n",
       "      <td>-71.9900</td>\n",
       "    </tr>\n",
       "    <tr>\n",
       "      <td>52</td>\n",
       "      <td>Pembroke</td>\n",
       "      <td>1</td>\n",
       "      <td>42.07150</td>\n",
       "      <td>-70.8092</td>\n",
       "    </tr>\n",
       "    <tr>\n",
       "      <td>57</td>\n",
       "      <td>Scituate</td>\n",
       "      <td>1</td>\n",
       "      <td>42.19000</td>\n",
       "      <td>-70.7300</td>\n",
       "    </tr>\n",
       "    <tr>\n",
       "      <td>11</td>\n",
       "      <td>Burlington</td>\n",
       "      <td>1</td>\n",
       "      <td>42.50470</td>\n",
       "      <td>-71.1956</td>\n",
       "    </tr>\n",
       "    <tr>\n",
       "      <td>24</td>\n",
       "      <td>Fairhaven</td>\n",
       "      <td>1</td>\n",
       "      <td>41.63760</td>\n",
       "      <td>-70.9036</td>\n",
       "    </tr>\n",
       "    <tr>\n",
       "      <td>32</td>\n",
       "      <td>Harvard</td>\n",
       "      <td>1</td>\n",
       "      <td>42.50010</td>\n",
       "      <td>-71.5828</td>\n",
       "    </tr>\n",
       "    <tr>\n",
       "      <td>34</td>\n",
       "      <td>Holliston</td>\n",
       "      <td>1</td>\n",
       "      <td>42.20010</td>\n",
       "      <td>-71.4245</td>\n",
       "    </tr>\n",
       "    <tr>\n",
       "      <td>35</td>\n",
       "      <td>Hopkinton</td>\n",
       "      <td>1</td>\n",
       "      <td>42.22000</td>\n",
       "      <td>-71.5200</td>\n",
       "    </tr>\n",
       "    <tr>\n",
       "      <td>36</td>\n",
       "      <td>Hudson</td>\n",
       "      <td>1</td>\n",
       "      <td>42.39000</td>\n",
       "      <td>-71.5600</td>\n",
       "    </tr>\n",
       "    <tr>\n",
       "      <td>39</td>\n",
       "      <td>Lowell</td>\n",
       "      <td>1</td>\n",
       "      <td>42.64000</td>\n",
       "      <td>-71.3200</td>\n",
       "    </tr>\n",
       "    <tr>\n",
       "      <td>18</td>\n",
       "      <td>Dover</td>\n",
       "      <td>1</td>\n",
       "      <td>42.25000</td>\n",
       "      <td>-71.2700</td>\n",
       "    </tr>\n",
       "    <tr>\n",
       "      <td>42</td>\n",
       "      <td>Marlborough</td>\n",
       "      <td>1</td>\n",
       "      <td>42.35000</td>\n",
       "      <td>-71.5500</td>\n",
       "    </tr>\n",
       "    <tr>\n",
       "      <td>43</td>\n",
       "      <td>Mashpee</td>\n",
       "      <td>1</td>\n",
       "      <td>41.61000</td>\n",
       "      <td>-70.4700</td>\n",
       "    </tr>\n",
       "    <tr>\n",
       "      <td>46</td>\n",
       "      <td>Methuen</td>\n",
       "      <td>1</td>\n",
       "      <td>42.73000</td>\n",
       "      <td>-71.1900</td>\n",
       "    </tr>\n",
       "    <tr>\n",
       "      <td>48</td>\n",
       "      <td>Millville</td>\n",
       "      <td>1</td>\n",
       "      <td>42.02790</td>\n",
       "      <td>-71.5809</td>\n",
       "    </tr>\n",
       "    <tr>\n",
       "      <td>14</td>\n",
       "      <td>Cohasset</td>\n",
       "      <td>1</td>\n",
       "      <td>42.24180</td>\n",
       "      <td>-70.8037</td>\n",
       "    </tr>\n",
       "    <tr>\n",
       "      <td>50</td>\n",
       "      <td>Norton</td>\n",
       "      <td>1</td>\n",
       "      <td>41.97000</td>\n",
       "      <td>-71.1900</td>\n",
       "    </tr>\n",
       "    <tr>\n",
       "      <td>51</td>\n",
       "      <td>Norwell</td>\n",
       "      <td>1</td>\n",
       "      <td>42.16150</td>\n",
       "      <td>-70.7928</td>\n",
       "    </tr>\n",
       "    <tr>\n",
       "      <td>53</td>\n",
       "      <td>Plympton</td>\n",
       "      <td>1</td>\n",
       "      <td>41.95590</td>\n",
       "      <td>-70.8148</td>\n",
       "    </tr>\n",
       "    <tr>\n",
       "      <td>0</td>\n",
       "      <td>Acushnet</td>\n",
       "      <td>1</td>\n",
       "      <td>41.69000</td>\n",
       "      <td>-70.9100</td>\n",
       "    </tr>\n",
       "  </tbody>\n",
       "</table>\n",
       "</div>"
      ],
      "text/plain": [
       "                     city  positive_mosquitoes  latitude  longitude\n",
       "23                 Easton                   46  42.02450   -71.1287\n",
       "49            New Bedford                   35  41.66000   -70.9400\n",
       "13                 Carver                   35  41.88340   -70.7625\n",
       "47          Middleborough                   25  41.89000   -70.9300\n",
       "54                Raynham                   25  41.94870   -71.0731\n",
       "55               Rehoboth                   19  41.84700   -71.2394\n",
       "56              Rochester                   18  41.75500    70.8453\n",
       "27               Freetown                   16  41.76200   -71.0141\n",
       "41                 Marion                   15  41.70000   -70.7600\n",
       "37               Kingston                   13  42.00000   -70.7200\n",
       "62           Southborough                   13  42.30570   -71.5245\n",
       "38              Lakeville                   12  41.84590   -70.9495\n",
       "68                Wareham                    9  41.76150   -70.7197\n",
       "26               Falmouth                    8  41.55000   -70.6100\n",
       "19                Duxbury                    8  42.04000   -70.6700\n",
       "72            Westborough                    6  42.27000   -71.6200\n",
       "15              Dartmouth                    6  41.61300   -70.9705\n",
       "12                 Canton                    6  42.15840   -71.1448\n",
       "31                 Hanson                    6  42.06000   -70.8500\n",
       "73               Westport                    5  41.57000   -71.0735\n",
       "30                Halifax                    5  41.99120   -70.8620\n",
       "29                Grafton                    4  42.20700   -71.6856\n",
       "3                 Andover                    4  42.66000   -71.1400\n",
       "44           Mattapoisett                    4  41.67000   -70.8100\n",
       "66               Uxbridge                    4  42.07720   -71.6303\n",
       "21        East Brookfield                    4  42.23000   -72.0500\n",
       "67                Walpole                    4  42.14000   -71.2400\n",
       "1                  Agawam                    3  42.07000   -72.6500\n",
       "75                Whitman                    3  42.08070   -70.9356\n",
       "9             Bridgewater                    3  41.99000   -70.9700\n",
       "16                Dighton                    3  41.84390   -71.1567\n",
       "40  Manchester-by-the-Sea                    2  42.57780   -70.7676\n",
       "10              Brimfield                    2  42.50000   -71.2000\n",
       "60                Shirley                    2  42.54000   -71.6600\n",
       "25             Fall River                    2  41.71000   -71.1000\n",
       "64                  Truro                    2  41.99480   -70.0490\n",
       "45                 Mendon                    2  42.10570   -71.5523\n",
       "17                Douglas                    2  42.05430   -71.7394\n",
       "6                  Bolton                    2  42.43340   -71.6078\n",
       "7                  Bourne                    2  41.73000   -70.6200\n",
       "69              Wellfleet                    2  41.93050   -70.0310\n",
       "71           West Newbury                    2  42.80150   -70.9898\n",
       "74               Weymouth                    2  42.21000   -70.9400\n",
       "33                 Holden                    2  42.35180   -71.8634\n",
       "4                    Avon                    2  42.13070   -71.0412\n",
       "22        East Longmeadow                    2  42.06450   -72.5126\n",
       "20       East Bridgewater                    2  42.03340   -70.9592\n",
       "70       West Bridgewater                    1  42.01900   -71.0078\n",
       "65                  Upton                    1  42.18000   -71.6100\n",
       "5                 Bedford                    1  42.49060   -71.2760\n",
       "63                Spencer                    1  42.25000   -71.9900\n",
       "8                 Boxford                    1  42.67000   -70.9800\n",
       "61             Shrewsbury                    1  42.29590   -71.7128\n",
       "58                Seekonk                    1  41.80842   -71.3370\n",
       "2                Amesbury                    1  42.85000   -70.9400\n",
       "59               Sherborn                    1  42.23900   -71.3698\n",
       "28                Gardner                    1  42.58000   -71.9900\n",
       "52               Pembroke                    1  42.07150   -70.8092\n",
       "57               Scituate                    1  42.19000   -70.7300\n",
       "11             Burlington                    1  42.50470   -71.1956\n",
       "24              Fairhaven                    1  41.63760   -70.9036\n",
       "32                Harvard                    1  42.50010   -71.5828\n",
       "34              Holliston                    1  42.20010   -71.4245\n",
       "35              Hopkinton                    1  42.22000   -71.5200\n",
       "36                 Hudson                    1  42.39000   -71.5600\n",
       "39                 Lowell                    1  42.64000   -71.3200\n",
       "18                  Dover                    1  42.25000   -71.2700\n",
       "42            Marlborough                    1  42.35000   -71.5500\n",
       "43                Mashpee                    1  41.61000   -70.4700\n",
       "46                Methuen                    1  42.73000   -71.1900\n",
       "48              Millville                    1  42.02790   -71.5809\n",
       "14               Cohasset                    1  42.24180   -70.8037\n",
       "50                 Norton                    1  41.97000   -71.1900\n",
       "51                Norwell                    1  42.16150   -70.7928\n",
       "53               Plympton                    1  41.95590   -70.8148\n",
       "0                Acushnet                    1  41.69000   -70.9100"
      ]
     },
     "execution_count": 170,
     "metadata": {},
     "output_type": "execute_result"
    }
   ],
   "source": [
    "#dataframe of massachusetts city pos mosquito count\n",
    "mass_city_pos_mosquito=pd.read_csv('mass_city_pos_mosquito.csv')\n",
    "mass_city_pos_mosquito.sort_values(by='positive_mosquitoes',ascending=False)"
   ]
  },
  {
   "cell_type": "code",
   "execution_count": 115,
   "metadata": {
    "collapsed": true
   },
   "outputs": [
    {
     "data": {
      "image/png": "[encoded data removed]",
      "text/plain": [
       "<Figure size 432x288 with 1 Axes>"
      ]
     },
     "metadata": {
      "needs_background": "light"
     },
     "output_type": "display_data"
    }
   ],
   "source": [
    "#graph of different mosquito species that were positive\n",
    "mass_pos_mosquito_species=pd.read_csv('mass_pos_mosquito_species.csv')\n",
    "mass_pos_mosquito_species\n",
    "mass_pos_mosquito_species.plot(kind='barh',x='species',y='positive_mosquitoes');\n"
   ]
  },
  {
   "cell_type": "code",
   "execution_count": 125,
   "metadata": {
    "collapsed": true
   },
   "outputs": [
    {
     "data": {
      "text/html": [
       "<div>\n",
       "<style scoped>\n",
       "    .dataframe tbody tr th:only-of-type {\n",
       "        vertical-align: middle;\n",
       "    }\n",
       "\n",
       "    .dataframe tbody tr th {\n",
       "        vertical-align: top;\n",
       "    }\n",
       "\n",
       "    .dataframe thead th {\n",
       "        text-align: right;\n",
       "    }\n",
       "</style>\n",
       "<table border=\"1\" class=\"dataframe\">\n",
       "  <thead>\n",
       "    <tr style=\"text-align: right;\">\n",
       "      <th></th>\n",
       "      <th>county</th>\n",
       "      <th>positive_mosquitoes</th>\n",
       "      <th>latitude</th>\n",
       "      <th>longitude</th>\n",
       "    </tr>\n",
       "  </thead>\n",
       "  <tbody>\n",
       "    <tr>\n",
       "      <td>0</td>\n",
       "      <td>Plymouth</td>\n",
       "      <td>163</td>\n",
       "      <td>41.9120</td>\n",
       "      <td>-70.7168</td>\n",
       "    </tr>\n",
       "    <tr>\n",
       "      <td>1</td>\n",
       "      <td>Bristol</td>\n",
       "      <td>161</td>\n",
       "      <td>41.7938</td>\n",
       "      <td>-71.1449</td>\n",
       "    </tr>\n",
       "    <tr>\n",
       "      <td>2</td>\n",
       "      <td>Worcester</td>\n",
       "      <td>45</td>\n",
       "      <td>42.4097</td>\n",
       "      <td>-71.8571</td>\n",
       "    </tr>\n",
       "    <tr>\n",
       "      <td>3</td>\n",
       "      <td>Norfolk</td>\n",
       "      <td>16</td>\n",
       "      <td>42.1767</td>\n",
       "      <td>-71.1449</td>\n",
       "    </tr>\n",
       "    <tr>\n",
       "      <td>4</td>\n",
       "      <td>Barnstable</td>\n",
       "      <td>15</td>\n",
       "      <td>41.6991</td>\n",
       "      <td>-70.3209</td>\n",
       "    </tr>\n",
       "    <tr>\n",
       "      <td>5</td>\n",
       "      <td>Essex</td>\n",
       "      <td>11</td>\n",
       "      <td>42.7051</td>\n",
       "      <td>-70.9071</td>\n",
       "    </tr>\n",
       "    <tr>\n",
       "      <td>6</td>\n",
       "      <td>Middlesex</td>\n",
       "      <td>10</td>\n",
       "      <td>42.4672</td>\n",
       "      <td>-71.2874</td>\n",
       "    </tr>\n",
       "    <tr>\n",
       "      <td>7</td>\n",
       "      <td>Hampden</td>\n",
       "      <td>7</td>\n",
       "      <td>42.1172</td>\n",
       "      <td>-72.6624</td>\n",
       "    </tr>\n",
       "  </tbody>\n",
       "</table>\n",
       "</div>"
      ],
      "text/plain": [
       "       county  positive_mosquitoes  latitude  longitude\n",
       "0    Plymouth                  163   41.9120   -70.7168\n",
       "1     Bristol                  161   41.7938   -71.1449\n",
       "2   Worcester                   45   42.4097   -71.8571\n",
       "3     Norfolk                   16   42.1767   -71.1449\n",
       "4  Barnstable                   15   41.6991   -70.3209\n",
       "5       Essex                   11   42.7051   -70.9071\n",
       "6   Middlesex                   10   42.4672   -71.2874\n",
       "7     Hampden                    7   42.1172   -72.6624"
      ]
     },
     "execution_count": 125,
     "metadata": {},
     "output_type": "execute_result"
    }
   ],
   "source": [
    "#geospacial data for massachusetts county\n",
    "mass_county_pos_mosquito"
   ]
  },
  {
   "cell_type": "code",
   "execution_count": 145,
   "metadata": {},
   "outputs": [],
   "source": [
    "# Display clusters of positive mosquitoes collected for county\n",
    "\n",
    "mass_map=folium.Map(location=[41.9120,-70.7168],zoom_start=9)\n",
    "mass_map\n",
    "counties = plugins.MarkerCluster().add_to(mass_map)\n",
    "\n",
    "\n",
    "for lat, lng, label1 in zip(mass_county_pos_mosquito.latitude,mass_county_pos_mosquito.longitude, mass_county_pos_mosquito.positive_mosquitoes.astype(str)):\n",
    "        folium.Marker(location=[lat, lng],icon=None,popup=label1).add_to(counties)\n",
    "\n",
    "# Display map\n",
    "mass_map\n",
    "mass_map.save('mass_pos_county_map.html')"
   ]
  },
  {
   "cell_type": "code",
   "execution_count": 147,
   "metadata": {},
   "outputs": [],
   "source": [
    "#Display clusters of positive mosquitoes for cities\n",
    "mass_map=folium.Map(location=[41.9120,-70.7168],zoom_start=9)\n",
    "mass_map\n",
    "cities = plugins.MarkerCluster().add_to(mass_map)\n",
    "\n",
    "\n",
    "for lat, lng, label1 in zip(mass_city_pos_mosquito.latitude,mass_city_pos_mosquito.longitude, mass_city_pos_mosquito.positive_mosquitoes.astype(str)):\n",
    "        folium.Marker(location=[lat, lng],icon=None,popup=label1).add_to(cities)\n",
    "\n",
    "# Display map\n",
    "mass_map\n",
    "mass_map.save('mass_pos_city_map.html')"
   ]
  },
  {
   "cell_type": "code",
   "execution_count": 192,
   "metadata": {},
   "outputs": [],
   "source": [
    "#heatmap of pos mosquito by city\n",
    "mass_map=folium.Map(location=[41.9120,-70.7168],zoom_start=9)\n",
    "mass_map\n",
    "HeatMap(data=mass_city_pos_mosquito[['latitude', 'longitude', 'positive_mosquitoes']], radius=25, max_val=20,max_zoom=6,blur=15).add_to(mass_map)\n",
    "mass_map.save('mass_pos_city_heatmap.html')"
   ]
  },
  {
   "cell_type": "code",
   "execution_count": 197,
   "metadata": {},
   "outputs": [],
   "source": [
    "#heatmap of pos mosquito by county\n",
    "mass_map=folium.Map(location=[41.9120,-70.7168],zoom_start=9)\n",
    "mass_map\n",
    "HeatMap(data=mass_county_pos_mosquito[['latitude', 'longitude', 'positive_mosquitoes']], radius=40, max_val=163,max_zoom=8,blur=15).add_to(mass_map)\n",
    "mass_map.save('mass_pos_county_heatmap.html')"
   ]
  },
  {
   "cell_type": "code",
   "execution_count": 334,
   "metadata": {
    "collapsed": true
   },
   "outputs": [
    {
     "data": {
      "text/html": [
       "<div>\n",
       "<style scoped>\n",
       "    .dataframe tbody tr th:only-of-type {\n",
       "        vertical-align: middle;\n",
       "    }\n",
       "\n",
       "    .dataframe tbody tr th {\n",
       "        vertical-align: top;\n",
       "    }\n",
       "\n",
       "    .dataframe thead th {\n",
       "        text-align: right;\n",
       "    }\n",
       "</style>\n",
       "<table border=\"1\" class=\"dataframe\">\n",
       "  <thead>\n",
       "    <tr style=\"text-align: right;\">\n",
       "      <th></th>\n",
       "      <th>County</th>\n",
       "      <th>animal_cases</th>\n",
       "      <th>latitude</th>\n",
       "      <th>longitude</th>\n",
       "    </tr>\n",
       "  </thead>\n",
       "  <tbody>\n",
       "    <tr>\n",
       "      <td>0</td>\n",
       "      <td>Allegan</td>\n",
       "      <td>2</td>\n",
       "      <td>42.5710</td>\n",
       "      <td>-86.3377</td>\n",
       "    </tr>\n",
       "    <tr>\n",
       "      <td>1</td>\n",
       "      <td>Barry</td>\n",
       "      <td>5</td>\n",
       "      <td>42.5354</td>\n",
       "      <td>-85.3550</td>\n",
       "    </tr>\n",
       "    <tr>\n",
       "      <td>2</td>\n",
       "      <td>Berrien</td>\n",
       "      <td>1</td>\n",
       "      <td>42.0321</td>\n",
       "      <td>-86.7416</td>\n",
       "    </tr>\n",
       "    <tr>\n",
       "      <td>3</td>\n",
       "      <td>Calhoun</td>\n",
       "      <td>3</td>\n",
       "      <td>42.2074</td>\n",
       "      <td>-85.0233</td>\n",
       "    </tr>\n",
       "    <tr>\n",
       "      <td>4</td>\n",
       "      <td>Cass</td>\n",
       "      <td>3</td>\n",
       "      <td>41.9299</td>\n",
       "      <td>-86.0122</td>\n",
       "    </tr>\n",
       "    <tr>\n",
       "      <td>5</td>\n",
       "      <td>Eaton</td>\n",
       "      <td>1</td>\n",
       "      <td>42.5886</td>\n",
       "      <td>-84.7733</td>\n",
       "    </tr>\n",
       "    <tr>\n",
       "      <td>6</td>\n",
       "      <td>Genesee</td>\n",
       "      <td>1</td>\n",
       "      <td>43.0777</td>\n",
       "      <td>-83.6774</td>\n",
       "    </tr>\n",
       "    <tr>\n",
       "      <td>7</td>\n",
       "      <td>Jackson</td>\n",
       "      <td>5</td>\n",
       "      <td>42.1764</td>\n",
       "      <td>-84.3542</td>\n",
       "    </tr>\n",
       "    <tr>\n",
       "      <td>8</td>\n",
       "      <td>Kalamazoo</td>\n",
       "      <td>9</td>\n",
       "      <td>42.2278</td>\n",
       "      <td>-85.5200</td>\n",
       "    </tr>\n",
       "    <tr>\n",
       "      <td>9</td>\n",
       "      <td>Kent</td>\n",
       "      <td>2</td>\n",
       "      <td>43.0097</td>\n",
       "      <td>-85.5200</td>\n",
       "    </tr>\n",
       "    <tr>\n",
       "      <td>10</td>\n",
       "      <td>Lapeer</td>\n",
       "      <td>1</td>\n",
       "      <td>43.0482</td>\n",
       "      <td>-83.1649</td>\n",
       "    </tr>\n",
       "    <tr>\n",
       "      <td>11</td>\n",
       "      <td>Leelanau</td>\n",
       "      <td>1</td>\n",
       "      <td>45.0821</td>\n",
       "      <td>-86.0734</td>\n",
       "    </tr>\n",
       "    <tr>\n",
       "      <td>12</td>\n",
       "      <td>Livingston</td>\n",
       "      <td>1</td>\n",
       "      <td>42.6208</td>\n",
       "      <td>-83.8473</td>\n",
       "    </tr>\n",
       "    <tr>\n",
       "      <td>13</td>\n",
       "      <td>Montcalm</td>\n",
       "      <td>1</td>\n",
       "      <td>43.3057</td>\n",
       "      <td>-85.1894</td>\n",
       "    </tr>\n",
       "    <tr>\n",
       "      <td>14</td>\n",
       "      <td>Newaygo</td>\n",
       "      <td>1</td>\n",
       "      <td>43.5594</td>\n",
       "      <td>-85.7667</td>\n",
       "    </tr>\n",
       "    <tr>\n",
       "      <td>15</td>\n",
       "      <td>Saint Joseph</td>\n",
       "      <td>7</td>\n",
       "      <td>41.9118</td>\n",
       "      <td>-85.5200</td>\n",
       "    </tr>\n",
       "    <tr>\n",
       "      <td>16</td>\n",
       "      <td>Tuscola</td>\n",
       "      <td>1</td>\n",
       "      <td>43.5301</td>\n",
       "      <td>-83.5070</td>\n",
       "    </tr>\n",
       "    <tr>\n",
       "      <td>17</td>\n",
       "      <td>Van Buren</td>\n",
       "      <td>2</td>\n",
       "      <td>42.2460</td>\n",
       "      <td>-86.0122</td>\n",
       "    </tr>\n",
       "  </tbody>\n",
       "</table>\n",
       "</div>"
      ],
      "text/plain": [
       "          County  animal_cases  latitude  longitude\n",
       "0        Allegan             2   42.5710   -86.3377\n",
       "1          Barry             5   42.5354   -85.3550\n",
       "2        Berrien             1   42.0321   -86.7416\n",
       "3        Calhoun             3   42.2074   -85.0233\n",
       "4           Cass             3   41.9299   -86.0122\n",
       "5          Eaton             1   42.5886   -84.7733\n",
       "6        Genesee             1   43.0777   -83.6774\n",
       "7        Jackson             5   42.1764   -84.3542\n",
       "8      Kalamazoo             9   42.2278   -85.5200\n",
       "9           Kent             2   43.0097   -85.5200\n",
       "10        Lapeer             1   43.0482   -83.1649\n",
       "11      Leelanau             1   45.0821   -86.0734\n",
       "12    Livingston             1   42.6208   -83.8473\n",
       "13      Montcalm             1   43.3057   -85.1894\n",
       "14       Newaygo             1   43.5594   -85.7667\n",
       "15  Saint Joseph             7   41.9118   -85.5200\n",
       "16       Tuscola             1   43.5301   -83.5070\n",
       "17     Van Buren             2   42.2460   -86.0122"
      ]
     },
     "execution_count": 334,
     "metadata": {},
     "output_type": "execute_result"
    }
   ],
   "source": [
    "#data from of michigan county with positive animal_cases\n",
    "#michigan lacks positive mosquito data\n",
    "mich_pos_map=pd.read_excel('mich_pos_map.xlsx')\n",
    "mich_pos_map"
   ]
  },
  {
   "cell_type": "code",
   "execution_count": 342,
   "metadata": {},
   "outputs": [],
   "source": [
    "#heatmap of positive animals for EEEV in michigan counties.\n",
    "mich_map=folium.Map(location=[42.2278,-85.5200],zoom_start=8)\n",
    "mich_map\n",
    "HeatMap(data=mich_pos_map[['latitude', 'longitude', 'animal_cases']], radius=34, max_val=5,max_zoom=8,blur=15).add_to(mich_map)\n",
    "mich_map.save('mich_pos_county_heatmap.html')"
   ]
  },
  {
   "cell_type": "code",
   "execution_count": 345,
   "metadata": {
    "collapsed": true
   },
   "outputs": [
    {
     "data": {
      "text/html": [
       "<div>\n",
       "<style scoped>\n",
       "    .dataframe tbody tr th:only-of-type {\n",
       "        vertical-align: middle;\n",
       "    }\n",
       "\n",
       "    .dataframe tbody tr th {\n",
       "        vertical-align: top;\n",
       "    }\n",
       "\n",
       "    .dataframe thead th {\n",
       "        text-align: right;\n",
       "    }\n",
       "</style>\n",
       "<table border=\"1\" class=\"dataframe\">\n",
       "  <thead>\n",
       "    <tr style=\"text-align: right;\">\n",
       "      <th></th>\n",
       "      <th>year</th>\n",
       "      <th>pos_animal</th>\n",
       "    </tr>\n",
       "  </thead>\n",
       "  <tbody>\n",
       "    <tr>\n",
       "      <td>0</td>\n",
       "      <td>2011</td>\n",
       "      <td>3</td>\n",
       "    </tr>\n",
       "    <tr>\n",
       "      <td>1</td>\n",
       "      <td>2012</td>\n",
       "      <td>1</td>\n",
       "    </tr>\n",
       "    <tr>\n",
       "      <td>2</td>\n",
       "      <td>2013</td>\n",
       "      <td>1</td>\n",
       "    </tr>\n",
       "    <tr>\n",
       "      <td>3</td>\n",
       "      <td>2014</td>\n",
       "      <td>4</td>\n",
       "    </tr>\n",
       "    <tr>\n",
       "      <td>4</td>\n",
       "      <td>2015</td>\n",
       "      <td>5</td>\n",
       "    </tr>\n",
       "    <tr>\n",
       "      <td>5</td>\n",
       "      <td>2016</td>\n",
       "      <td>3</td>\n",
       "    </tr>\n",
       "    <tr>\n",
       "      <td>6</td>\n",
       "      <td>2017</td>\n",
       "      <td>8</td>\n",
       "    </tr>\n",
       "    <tr>\n",
       "      <td>7</td>\n",
       "      <td>2018</td>\n",
       "      <td>2</td>\n",
       "    </tr>\n",
       "    <tr>\n",
       "      <td>8</td>\n",
       "      <td>2019</td>\n",
       "      <td>48</td>\n",
       "    </tr>\n",
       "  </tbody>\n",
       "</table>\n",
       "</div>"
      ],
      "text/plain": [
       "   year  pos_animal\n",
       "0  2011           3\n",
       "1  2012           1\n",
       "2  2013           1\n",
       "3  2014           4\n",
       "4  2015           5\n",
       "5  2016           3\n",
       "6  2017           8\n",
       "7  2018           2\n",
       "8  2019          48"
      ]
     },
     "execution_count": 345,
     "metadata": {},
     "output_type": "execute_result"
    }
   ],
   "source": [
    "mich_pos_animals=pd.read_excel('mich_pos_animals.xlsx')\n",
    "mich_pos_animals"
   ]
  },
  {
   "cell_type": "code",
   "execution_count": 356,
   "metadata": {
    "collapsed": true
   },
   "outputs": [
    {
     "data": {
      "text/plain": [
       "<matplotlib.legend.Legend at 0x12fd48048>"
      ]
     },
     "execution_count": 356,
     "metadata": {},
     "output_type": "execute_result"
    },
    {
     "data": {
      "image/png": "[encoded data removed]",
      "text/plain": [
       "<Figure size 432x288 with 1 Axes>"
      ]
     },
     "metadata": {
      "needs_background": "light"
     },
     "output_type": "display_data"
    }
   ],
   "source": [
    "mich_pos_animals.plot('year','pos_animal',marker='o')\n",
    "plt.title('Michigan')\n",
    "plt.legend(loc='best')"
   ]
  },
  {
   "cell_type": "code",
   "execution_count": 362,
   "metadata": {
    "collapsed": true
   },
   "outputs": [
    {
     "data": {
      "image/png": "[encoded data removed]",
      "text/plain": [
       "<Figure size 432x288 with 1 Axes>"
      ]
     },
     "metadata": {
      "needs_background": "light"
     },
     "output_type": "display_data"
    }
   ],
   "source": [
    "eeev_year_state[eeev_year_state['State']=='Massachusetts'].plot('year','pos_cases',marker='o');"
   ]
  },
  {
   "cell_type": "code",
   "execution_count": 363,
   "metadata": {
    "collapsed": true
   },
   "outputs": [
    {
     "data": {
      "image/png": "[encoded data removed]",
      "text/plain": [
       "<Figure size 432x288 with 1 Axes>"
      ]
     },
     "metadata": {
      "needs_background": "light"
     },
     "output_type": "display_data"
    }
   ],
   "source": [
    "eeev_year_state[eeev_year_state['State']=='Michigan'].plot('year','pos_cases',marker='o');"
   ]
  },
  {
   "cell_type": "code",
   "execution_count": 373,
   "metadata": {
    "collapsed": true
   },
   "outputs": [
    {
     "data": {
      "image/png": "[encoded data removed]",
      "text/plain": [
       "<Figure size 432x288 with 1 Axes>"
      ]
     },
     "metadata": {
      "needs_background": "light"
     },
     "output_type": "display_data"
    }
   ],
   "source": [
    "eeev_year_state[eeev_year_state['State']=='Florida'].plot('year','pos_cases',marker='o')\n",
    "plt.xticks(rotation=90);"
   ]
  },
  {
   "cell_type": "code",
   "execution_count": 365,
   "metadata": {
    "collapsed": true
   },
   "outputs": [
    {
     "data": {
      "image/png": "[encoded data removed]",
      "text/plain": [
       "<Figure size 432x288 with 1 Axes>"
      ]
     },
     "metadata": {
      "needs_background": "light"
     },
     "output_type": "display_data"
    }
   ],
   "source": [
    "eeev_year_state[eeev_year_state['State']=='New Jersey'].plot('year','pos_cases',marker='o');"
   ]
  },
  {
   "cell_type": "code",
   "execution_count": 366,
   "metadata": {
    "collapsed": true
   },
   "outputs": [
    {
     "data": {
      "image/png": "[encoded data removed]",
      "text/plain": [
       "<Figure size 432x288 with 1 Axes>"
      ]
     },
     "metadata": {
      "needs_background": "light"
     },
     "output_type": "display_data"
    }
   ],
   "source": [
    "eeev_year_state[eeev_year_state['State']=='Connecticut'].plot('year','pos_cases',marker='o');"
   ]
  },
  {
   "cell_type": "code",
   "execution_count": 367,
   "metadata": {
    "collapsed": true
   },
   "outputs": [
    {
     "data": {
      "image/png": "[encoded data removed]",
      "text/plain": [
       "<Figure size 432x288 with 1 Axes>"
      ]
     },
     "metadata": {
      "needs_background": "light"
     },
     "output_type": "display_data"
    }
   ],
   "source": [
    "eeev_year_state[eeev_year_state['State']=='Rhode Island'].plot('year','pos_cases',marker='o');"
   ]
  },
  {
   "cell_type": "code",
   "execution_count": null,
   "metadata": {},
   "outputs": [],
   "source": []
  }
 ],
 "metadata": {
  "kernelspec": {
   "display_name": "Python 3",
   "language": "python",
   "name": "python3"
  },
  "language_info": {
   "codemirror_mode": {
    "name": "ipython",
    "version": 3
   },
   "file_extension": ".py",
   "mimetype": "text/x-python",
   "name": "python",
   "nbconvert_exporter": "python",
   "pygments_lexer": "ipython3",
   "version": "3.6.0"
  }
 },
 "nbformat": 4,
 "nbformat_minor": 2
}
